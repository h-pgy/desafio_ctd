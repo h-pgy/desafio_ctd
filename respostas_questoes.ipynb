{
 "cells": [
  {
   "cell_type": "code",
   "execution_count": 34,
   "id": "b5f3d7e9-8bed-4e2a-a874-ef799ca5cda2",
   "metadata": {},
   "outputs": [],
   "source": [
    "import pandas as pd\n",
    "import sqlite3\n",
    "import os\n",
    "from functools import wraps"
   ]
  },
  {
   "cell_type": "markdown",
   "id": "aca354ae-1aeb-4b4b-af21-1865b2587359",
   "metadata": {},
   "source": [
    "# Objetivo do notebook\n",
    "\n",
    "Este notebook tem por objetivo responder às questões enviadas para o desafio, registrando de forma compreensível por humanos a metodologia e os processamentos que serão implementados nos endpoints da API.\n",
    "\n",
    "Também registraremos aqui a resposta à última questão, que, conforme instruções enviadas, deve ser respondida separadamente, não entrando no escopo da API."
   ]
  },
  {
   "cell_type": "markdown",
   "id": "c26dd25b-8e94-4c7f-8ea3-b3f126b3b263",
   "metadata": {},
   "source": [
    "#### Carregando os dados\n",
    "\n",
    "Nas células a seguir carregaremos os dados gerados pelo ETL (ver notebook \"etl_dados_para_sqlite.ipynb\")"
   ]
  },
  {
   "cell_type": "code",
   "execution_count": 4,
   "id": "e77ead8d-fa84-4b2e-8668-fc857a6b7258",
   "metadata": {},
   "outputs": [],
   "source": [
    "path_dados = os.path.abspath(os.path.join('data', 'desafio_selecao.db'))\n",
    "con = sqlite3.connect(path_dados)"
   ]
  },
  {
   "cell_type": "code",
   "execution_count": 6,
   "id": "18f5b133-8b7f-4b84-9099-b732ea71ea3d",
   "metadata": {},
   "outputs": [],
   "source": [
    "df = pd.read_sql('SELECT * FROM respostas_diagnostico', con)"
   ]
  },
  {
   "cell_type": "code",
   "execution_count": 13,
   "id": "8a8ec397-bc6a-4ff5-8cf3-5b770702339e",
   "metadata": {},
   "outputs": [],
   "source": [
    "con.close()"
   ]
  },
  {
   "cell_type": "code",
   "execution_count": 7,
   "id": "a7f9f6b4-7ede-463f-aaa0-3864f346087f",
   "metadata": {},
   "outputs": [
    {
     "data": {
      "text/html": [
       "<div>\n",
       "<style scoped>\n",
       "    .dataframe tbody tr th:only-of-type {\n",
       "        vertical-align: middle;\n",
       "    }\n",
       "\n",
       "    .dataframe tbody tr th {\n",
       "        vertical-align: top;\n",
       "    }\n",
       "\n",
       "    .dataframe thead th {\n",
       "        text-align: right;\n",
       "    }\n",
       "</style>\n",
       "<table border=\"1\" class=\"dataframe\">\n",
       "  <thead>\n",
       "    <tr style=\"text-align: right;\">\n",
       "      <th></th>\n",
       "      <th>id_resposta</th>\n",
       "      <th>ano_diagnostico</th>\n",
       "      <th>data_submissao</th>\n",
       "      <th>orgao</th>\n",
       "      <th>tipo_orgao</th>\n",
       "      <th>qtd_equipe</th>\n",
       "      <th>utiliza_metodologia</th>\n",
       "      <th>desktop_proprio</th>\n",
       "      <th>desktop_locado</th>\n",
       "      <th>desktop_proprio_antigo</th>\n",
       "    </tr>\n",
       "  </thead>\n",
       "  <tbody>\n",
       "    <tr>\n",
       "      <th>0</th>\n",
       "      <td>5</td>\n",
       "      <td>2017</td>\n",
       "      <td>2017-04-20 10:39:54</td>\n",
       "      <td>SUBPR</td>\n",
       "      <td>Subprefeitura</td>\n",
       "      <td>3.0</td>\n",
       "      <td>0.0</td>\n",
       "      <td>152</td>\n",
       "      <td>0</td>\n",
       "      <td>107</td>\n",
       "    </tr>\n",
       "    <tr>\n",
       "      <th>1</th>\n",
       "      <td>8</td>\n",
       "      <td>2019</td>\n",
       "      <td>2019-04-12 10:55:24</td>\n",
       "      <td>SMS</td>\n",
       "      <td>Secretaria</td>\n",
       "      <td>58.0</td>\n",
       "      <td>0.0</td>\n",
       "      <td>12500</td>\n",
       "      <td>0</td>\n",
       "      <td>6927.0000000000</td>\n",
       "    </tr>\n",
       "    <tr>\n",
       "      <th>2</th>\n",
       "      <td>9</td>\n",
       "      <td>2019</td>\n",
       "      <td>2019-04-05 15:57:10</td>\n",
       "      <td>SUBSA</td>\n",
       "      <td>Subprefeitura</td>\n",
       "      <td>3.0</td>\n",
       "      <td>NaN</td>\n",
       "      <td>36</td>\n",
       "      <td>90</td>\n",
       "      <td>0.0000000000</td>\n",
       "    </tr>\n",
       "    <tr>\n",
       "      <th>3</th>\n",
       "      <td>10</td>\n",
       "      <td>2017</td>\n",
       "      <td>2017-05-17 09:13:17</td>\n",
       "      <td>IPREM</td>\n",
       "      <td>Administração Indireta</td>\n",
       "      <td>6.0</td>\n",
       "      <td>0.0</td>\n",
       "      <td>200</td>\n",
       "      <td>0</td>\n",
       "      <td>0</td>\n",
       "    </tr>\n",
       "    <tr>\n",
       "      <th>4</th>\n",
       "      <td>10</td>\n",
       "      <td>2019</td>\n",
       "      <td>2019-03-25 14:40:06</td>\n",
       "      <td>SUBST</td>\n",
       "      <td>Subprefeitura</td>\n",
       "      <td>3.0</td>\n",
       "      <td>NaN</td>\n",
       "      <td>150</td>\n",
       "      <td>0</td>\n",
       "      <td>150.0000000000</td>\n",
       "    </tr>\n",
       "  </tbody>\n",
       "</table>\n",
       "</div>"
      ],
      "text/plain": [
       "   id_resposta  ano_diagnostico       data_submissao  orgao  \\\n",
       "0            5             2017  2017-04-20 10:39:54  SUBPR   \n",
       "1            8             2019  2019-04-12 10:55:24    SMS   \n",
       "2            9             2019  2019-04-05 15:57:10  SUBSA   \n",
       "3           10             2017  2017-05-17 09:13:17  IPREM   \n",
       "4           10             2019  2019-03-25 14:40:06  SUBST   \n",
       "\n",
       "               tipo_orgao  qtd_equipe  utiliza_metodologia desktop_proprio  \\\n",
       "0           Subprefeitura         3.0                  0.0             152   \n",
       "1              Secretaria        58.0                  0.0           12500   \n",
       "2           Subprefeitura         3.0                  NaN              36   \n",
       "3  Administração Indireta         6.0                  0.0             200   \n",
       "4           Subprefeitura         3.0                  NaN             150   \n",
       "\n",
       "  desktop_locado desktop_proprio_antigo  \n",
       "0              0                    107  \n",
       "1              0        6927.0000000000  \n",
       "2             90           0.0000000000  \n",
       "3              0                      0  \n",
       "4              0         150.0000000000  "
      ]
     },
     "execution_count": 7,
     "metadata": {},
     "output_type": "execute_result"
    }
   ],
   "source": [
    "df.head()"
   ]
  },
  {
   "cell_type": "code",
   "execution_count": 21,
   "id": "19ccbf6b-ddad-4841-bb79-a1eced48cd29",
   "metadata": {},
   "outputs": [
    {
     "data": {
      "text/plain": [
       "201"
      ]
     },
     "execution_count": 21,
     "metadata": {},
     "output_type": "execute_result"
    }
   ],
   "source": [
    "len(df)"
   ]
  },
  {
   "cell_type": "code",
   "execution_count": 22,
   "id": "100d0dde-219c-41ea-be5f-66307615a4eb",
   "metadata": {},
   "outputs": [
    {
     "data": {
      "text/plain": [
       "id_resposta                 int64\n",
       "ano_diagnostico             int64\n",
       "data_submissao             object\n",
       "orgao                      object\n",
       "tipo_orgao                 object\n",
       "qtd_equipe                  int64\n",
       "utiliza_metodologia       float64\n",
       "desktop_proprio            object\n",
       "desktop_locado             object\n",
       "desktop_proprio_antigo     object\n",
       "dtype: object"
      ]
     },
     "execution_count": 22,
     "metadata": {},
     "output_type": "execute_result"
    }
   ],
   "source": [
    "df.dtypes"
   ]
  },
  {
   "cell_type": "markdown",
   "id": "c6fffd7d-7689-4d84-bc74-7327f743ef56",
   "metadata": {},
   "source": [
    "Algumas colunas que parecem ser float vieram como text, mas isso está de acordo com o schema e com o dicionário de variáveis.\n",
    "\n",
    "É possível que tenhamos que tratar isso, no entanto, para responder alguma das questões."
   ]
  },
  {
   "cell_type": "markdown",
   "id": "7c5173db-8b07-4c8c-873d-93121e2ab8b4",
   "metadata": {},
   "source": [
    "### Filtrando pela data de reposição\n",
    "\n",
    "Conforme orientações:\n",
    "\n",
    "> É importante ressaltar também que o campo data_submissao é preenchido apenas quando o formulário é efetivamente concluído e aceito. Por isso, considere somente as respostas que possuam o campo data_submissao preenchido!"
   ]
  },
  {
   "cell_type": "code",
   "execution_count": 9,
   "id": "1b1b167d-b1fa-4557-9060-b2f906159c95",
   "metadata": {},
   "outputs": [],
   "source": [
    "sem_data = df['data_submissao'].isnull()"
   ]
  },
  {
   "cell_type": "code",
   "execution_count": 10,
   "id": "9cdd0dc3-7e4d-4dd2-b0fb-de68e9cbc808",
   "metadata": {},
   "outputs": [
    {
     "data": {
      "text/plain": [
       "0.34527687296416937"
      ]
     },
     "execution_count": 10,
     "metadata": {},
     "output_type": "execute_result"
    }
   ],
   "source": [
    "sem_data.mean()"
   ]
  },
  {
   "cell_type": "markdown",
   "id": "55308d22-7be5-4649-9874-39d6eea1df00",
   "metadata": {},
   "source": [
    "Aproximadamente 30% das respostas nao possui data de submissao"
   ]
  },
  {
   "cell_type": "code",
   "execution_count": 12,
   "id": "3fe1d10b-f34e-446a-8c0c-bda254080b52",
   "metadata": {},
   "outputs": [
    {
     "data": {
      "text/html": [
       "<div>\n",
       "<style scoped>\n",
       "    .dataframe tbody tr th:only-of-type {\n",
       "        vertical-align: middle;\n",
       "    }\n",
       "\n",
       "    .dataframe tbody tr th {\n",
       "        vertical-align: top;\n",
       "    }\n",
       "\n",
       "    .dataframe thead th {\n",
       "        text-align: right;\n",
       "    }\n",
       "</style>\n",
       "<table border=\"1\" class=\"dataframe\">\n",
       "  <thead>\n",
       "    <tr style=\"text-align: right;\">\n",
       "      <th></th>\n",
       "      <th>id_resposta</th>\n",
       "      <th>ano_diagnostico</th>\n",
       "      <th>data_submissao</th>\n",
       "      <th>orgao</th>\n",
       "      <th>tipo_orgao</th>\n",
       "      <th>qtd_equipe</th>\n",
       "      <th>utiliza_metodologia</th>\n",
       "      <th>desktop_proprio</th>\n",
       "      <th>desktop_locado</th>\n",
       "      <th>desktop_proprio_antigo</th>\n",
       "    </tr>\n",
       "  </thead>\n",
       "  <tbody>\n",
       "    <tr>\n",
       "      <th>219</th>\n",
       "      <td>309</td>\n",
       "      <td>2017</td>\n",
       "      <td>None</td>\n",
       "      <td>A25</td>\n",
       "      <td>None</td>\n",
       "      <td>2.0</td>\n",
       "      <td>0.0</td>\n",
       "      <td>None</td>\n",
       "      <td>None</td>\n",
       "      <td>None</td>\n",
       "    </tr>\n",
       "    <tr>\n",
       "      <th>105</th>\n",
       "      <td>70</td>\n",
       "      <td>2018</td>\n",
       "      <td>None</td>\n",
       "      <td>None</td>\n",
       "      <td>None</td>\n",
       "      <td>NaN</td>\n",
       "      <td>NaN</td>\n",
       "      <td>None</td>\n",
       "      <td>None</td>\n",
       "      <td>None</td>\n",
       "    </tr>\n",
       "    <tr>\n",
       "      <th>110</th>\n",
       "      <td>73</td>\n",
       "      <td>2018</td>\n",
       "      <td>None</td>\n",
       "      <td>None</td>\n",
       "      <td>None</td>\n",
       "      <td>NaN</td>\n",
       "      <td>NaN</td>\n",
       "      <td>None</td>\n",
       "      <td>None</td>\n",
       "      <td>None</td>\n",
       "    </tr>\n",
       "    <tr>\n",
       "      <th>190</th>\n",
       "      <td>211</td>\n",
       "      <td>2017</td>\n",
       "      <td>None</td>\n",
       "      <td>A2</td>\n",
       "      <td>None</td>\n",
       "      <td>2.0</td>\n",
       "      <td>NaN</td>\n",
       "      <td></td>\n",
       "      <td></td>\n",
       "      <td></td>\n",
       "    </tr>\n",
       "    <tr>\n",
       "      <th>301</th>\n",
       "      <td>395</td>\n",
       "      <td>2017</td>\n",
       "      <td>None</td>\n",
       "      <td>None</td>\n",
       "      <td>None</td>\n",
       "      <td>NaN</td>\n",
       "      <td>NaN</td>\n",
       "      <td>None</td>\n",
       "      <td>None</td>\n",
       "      <td>None</td>\n",
       "    </tr>\n",
       "  </tbody>\n",
       "</table>\n",
       "</div>"
      ],
      "text/plain": [
       "     id_resposta  ano_diagnostico data_submissao orgao tipo_orgao  qtd_equipe  \\\n",
       "219          309             2017           None   A25       None         2.0   \n",
       "105           70             2018           None  None       None         NaN   \n",
       "110           73             2018           None  None       None         NaN   \n",
       "190          211             2017           None    A2       None         2.0   \n",
       "301          395             2017           None  None       None         NaN   \n",
       "\n",
       "     utiliza_metodologia desktop_proprio desktop_locado desktop_proprio_antigo  \n",
       "219                  0.0            None           None                   None  \n",
       "105                  NaN            None           None                   None  \n",
       "110                  NaN            None           None                   None  \n",
       "190                  NaN                                                        \n",
       "301                  NaN            None           None                   None  "
      ]
     },
     "execution_count": 12,
     "metadata": {},
     "output_type": "execute_result"
    }
   ],
   "source": [
    "df[sem_data].sample(5)"
   ]
  },
  {
   "cell_type": "markdown",
   "id": "8e4e0423-1f00-426f-a6e1-d07ccfff11e2",
   "metadata": {},
   "source": [
    "Como podemos ver, os formulário sem data de submissão vieram de fato incompletos.\n",
    "\n",
    "Vamos inserir portanto esse filtro na função de obtenção dos dados, para garantir que ele seja sempre realizado."
   ]
  },
  {
   "cell_type": "code",
   "execution_count": 15,
   "id": "86b3e86b-5708-48ab-ba88-63d2bbc1fcec",
   "metadata": {},
   "outputs": [],
   "source": [
    "def get_data():\n",
    "    \n",
    "    path_dados = os.path.abspath(os.path.join('data', 'desafio_selecao.db'))\n",
    "    con = sqlite3.connect(path_dados)\n",
    "    \n",
    "    df = pd.read_sql('SELECT * FROM respostas_diagnostico WHERE data_submissao NOT NULL', \n",
    "                     con)\n",
    "    \n",
    "    return df"
   ]
  },
  {
   "cell_type": "code",
   "execution_count": 16,
   "id": "3a078737-52a0-499d-9d4e-a2667b4f8ccc",
   "metadata": {},
   "outputs": [],
   "source": [
    "df = get_data()"
   ]
  },
  {
   "cell_type": "code",
   "execution_count": 20,
   "id": "f4a045c2-d8fb-4e0d-80c3-4092458193e2",
   "metadata": {},
   "outputs": [],
   "source": [
    "assert df['data_submissao'].notnull().all()"
   ]
  },
  {
   "cell_type": "markdown",
   "id": "728bbd85-3e87-4b1b-868e-00aff5cdd74a",
   "metadata": {},
   "source": [
    "Como diversas questões utilizam o parâmetro ano, vamos criar um decorator para limpar esse dado e levantar erros semânticos caso o parâmetro seja imputado incorretamente (por exemplo, caso seja um ano não compreendido na pesquisa).\n",
    "\n",
    "O mesmo será feito para o parametro secretaria."
   ]
  },
  {
   "cell_type": "code",
   "execution_count": 131,
   "id": "aa4c47c5-e722-424d-a414-fd73a277637d",
   "metadata": {},
   "outputs": [],
   "source": [
    "def solve_ano(func):\n",
    "    '''\n",
    "    Solves the ano param, raising appropriated errors.\n",
    "    Decorated func must have one keyword arguments named\n",
    "    ano. Also, df should be the first positional argument'''\n",
    "    \n",
    "    @wraps(func)\n",
    "    def decorated(*args, **kwargs):\n",
    "        \n",
    "        if len(args)<1:\n",
    "            df = kwargs['df']\n",
    "        else:\n",
    "            df =  args[0]\n",
    "        ano = kwargs.pop('ano')\n",
    "        try:\n",
    "            ano = int(ano)\n",
    "            kwargs['ano'] = ano\n",
    "        except ValueError:\n",
    "            raise ValueError('Param <ano> must be integer, float or a string convertible to int')\n",
    "\n",
    "        if ano not in df['ano_diagnostico'].unique():\n",
    "            raise NotImplementedError(f'Ano {ano} não compreendido na pesquisa')\n",
    "            \n",
    "        return func(*args, **kwargs)\n",
    "    \n",
    "    return decorated"
   ]
  },
  {
   "cell_type": "code",
   "execution_count": 145,
   "id": "452b6981-af14-427a-a2a6-989f331efe50",
   "metadata": {},
   "outputs": [],
   "source": [
    "def solve_orgao(func):\n",
    "    '''\n",
    "    Solves the orgao param, raising appropriated errors.\n",
    "    Decorated func must have one keyword arguments named\n",
    "    orgao. Also, df should be the first positional argument'''\n",
    "    \n",
    "    @wraps(func)\n",
    "    def decorated(*args, **kwargs):\n",
    "        \n",
    "        if len(args)<1:\n",
    "            df = kwargs['df']\n",
    "        else:\n",
    "            df =  args[0]\n",
    "        orgao = kwargs.get('orgao')\n",
    "        if orgao is not None:\n",
    "            if type(orgao) is not str:\n",
    "                raise ValueError('Param <orgao> must be string')\n",
    "            orgao = orgao.upper()\n",
    "\n",
    "            if orgao not in df['orgao'].unique():\n",
    "                raise NotImplementedError(f'Orgao {orgao} não compreendido na pesquisa')\n",
    "            \n",
    "            kwargs['orgao'] = orgao\n",
    "            \n",
    "        return func(*args, **kwargs)\n",
    "    \n",
    "    return decorated"
   ]
  },
  {
   "cell_type": "markdown",
   "id": "6b5ba984-17f4-494c-829d-cb677c3ed060",
   "metadata": {},
   "source": [
    "#### Questão 1\n",
    "\n",
    "> Gostaria de listar os órgãos que responderam a pesquisa, passando o ano referência do diagnóstico como parâmetro. Eles devem ser apresentados como uma lista de objetos e conter minimante o nome do órgão e o tipo de órgão."
   ]
  },
  {
   "cell_type": "code",
   "execution_count": 146,
   "id": "87f26772-d0f8-4325-bde1-a92491a527ab",
   "metadata": {},
   "outputs": [],
   "source": [
    "@solve_ano\n",
    "def questao_1(df, *, ano):\n",
    "    \n",
    "    filtro_ano = df['ano_diagnostico'] == ano\n",
    "    df_ano = df[filtro_ano].reset_index(drop=True)\n",
    "    \n",
    "    orgaos_e_tipos = set()\n",
    "    \n",
    "    for i, row in df_ano.iterrows():\n",
    "        \n",
    "        orgaos_e_tipos.add((row['orgao'], row['tipo_orgao']))\n",
    "    \n",
    "    return [{'nome_orgao' : orgao, 'tipo_orgao' : tipo} for orgao, tipo in orgaos_e_tipos]"
   ]
  },
  {
   "cell_type": "code",
   "execution_count": 147,
   "id": "128c37e7-ce3f-41ed-8a5b-b7ce0f1c8646",
   "metadata": {},
   "outputs": [
    {
     "data": {
      "text/plain": [
       "[{'nome_orgao': 'SUBCV', 'tipo_orgao': 'Subprefeitura'},\n",
       " {'nome_orgao': 'SUBMP', 'tipo_orgao': 'Subprefeitura'},\n",
       " {'nome_orgao': 'SMPED', 'tipo_orgao': 'Secretaria'},\n",
       " {'nome_orgao': 'SPTRA', 'tipo_orgao': 'Administração Indireta'},\n",
       " {'nome_orgao': 'SFMSP', 'tipo_orgao': 'Administração Indireta'},\n",
       " {'nome_orgao': 'SUBLA', 'tipo_orgao': 'Subprefeitura'},\n",
       " {'nome_orgao': 'SUBCS', 'tipo_orgao': 'Subprefeitura'},\n",
       " {'nome_orgao': 'SUBSA', 'tipo_orgao': 'Subprefeitura'},\n",
       " {'nome_orgao': 'SUBPA', 'tipo_orgao': 'Subprefeitura'},\n",
       " {'nome_orgao': 'SMADS', 'tipo_orgao': 'Secretaria'},\n",
       " {'nome_orgao': 'SMIT', 'tipo_orgao': 'Secretaria'},\n",
       " {'nome_orgao': 'SUBCL', 'tipo_orgao': 'Subprefeitura'},\n",
       " {'nome_orgao': 'SEHAB', 'tipo_orgao': 'Secretaria'},\n",
       " {'nome_orgao': 'SGM', 'tipo_orgao': 'Secretaria'},\n",
       " {'nome_orgao': 'SMJ', 'tipo_orgao': 'Secretaria'},\n",
       " {'nome_orgao': 'AHM', 'tipo_orgao': 'Administração Indireta'},\n",
       " {'nome_orgao': 'PGM', 'tipo_orgao': 'Secretaria'},\n",
       " {'nome_orgao': 'SF', 'tipo_orgao': 'Secretaria'},\n",
       " {'nome_orgao': 'CET', 'tipo_orgao': 'Administração Indireta'},\n",
       " {'nome_orgao': 'SUBBT', 'tipo_orgao': 'Subprefeitura'},\n",
       " {'nome_orgao': 'SME', 'tipo_orgao': 'Secretaria'},\n",
       " {'nome_orgao': 'HSPM', 'tipo_orgao': 'Administração Indireta'},\n",
       " {'nome_orgao': 'SUBJT', 'tipo_orgao': 'Subprefeitura'},\n",
       " {'nome_orgao': 'SUBVP', 'tipo_orgao': 'Subprefeitura'},\n",
       " {'nome_orgao': 'SUBFB', 'tipo_orgao': 'Subprefeitura'},\n",
       " {'nome_orgao': 'COHAB', 'tipo_orgao': 'Administração Indireta'},\n",
       " {'nome_orgao': 'SUBCT', 'tipo_orgao': 'Subprefeitura'},\n",
       " {'nome_orgao': 'SMS', 'tipo_orgao': 'Secretaria'},\n",
       " {'nome_orgao': 'SPCIN', 'tipo_orgao': 'Administração Indireta'},\n",
       " {'nome_orgao': 'SUBSB', 'tipo_orgao': 'Subprefeitura'},\n",
       " {'nome_orgao': 'SMC', 'tipo_orgao': 'Secretaria'},\n",
       " {'nome_orgao': 'SMT', 'tipo_orgao': 'Secretaria'},\n",
       " {'nome_orgao': 'TMSP', 'tipo_orgao': 'Administração Indireta'},\n",
       " {'nome_orgao': 'SUBMB', 'tipo_orgao': 'Subprefeitura'},\n",
       " {'nome_orgao': 'CGM', 'tipo_orgao': 'Secretaria'},\n",
       " {'nome_orgao': 'SG', 'tipo_orgao': 'Secretaria'},\n",
       " {'nome_orgao': 'SUBPE', 'tipo_orgao': 'Subprefeitura'},\n",
       " {'nome_orgao': 'SPTUR', 'tipo_orgao': 'Administração Indireta'},\n",
       " {'nome_orgao': 'SUBIT', 'tipo_orgao': 'Subprefeitura'},\n",
       " {'nome_orgao': 'SPOBR', 'tipo_orgao': 'Administração Indireta'},\n",
       " {'nome_orgao': 'SMDHC', 'tipo_orgao': 'Secretaria'},\n",
       " {'nome_orgao': 'SMSU', 'tipo_orgao': 'Secretaria'},\n",
       " {'nome_orgao': 'SMSUB', 'tipo_orgao': 'Secretaria'},\n",
       " {'nome_orgao': 'IPREM', 'tipo_orgao': 'Administração Indireta'},\n",
       " {'nome_orgao': 'SUBMO', 'tipo_orgao': 'Subprefeitura'},\n",
       " {'nome_orgao': 'SUBAD', 'tipo_orgao': 'Subprefeitura'},\n",
       " {'nome_orgao': 'SUBPR', 'tipo_orgao': 'Subprefeitura'},\n",
       " {'nome_orgao': 'SUBSM', 'tipo_orgao': 'Subprefeitura'},\n",
       " {'nome_orgao': 'FT', 'tipo_orgao': 'Secretaria'},\n",
       " {'nome_orgao': 'SUBMG', 'tipo_orgao': 'Subprefeitura'},\n",
       " {'nome_orgao': 'SUBSE', 'tipo_orgao': 'Subprefeitura'},\n",
       " {'nome_orgao': 'SMUL', 'tipo_orgao': 'Secretaria'},\n",
       " {'nome_orgao': 'SUBIQ', 'tipo_orgao': 'Subprefeitura'},\n",
       " {'nome_orgao': 'SUBAF', 'tipo_orgao': 'Subprefeitura'},\n",
       " {'nome_orgao': 'SUBVM', 'tipo_orgao': 'Subprefeitura'},\n",
       " {'nome_orgao': 'SPPAR', 'tipo_orgao': 'Administração Indireta'},\n",
       " {'nome_orgao': 'SUBPJ', 'tipo_orgao': 'Subprefeitura'},\n",
       " {'nome_orgao': 'SVMA', 'tipo_orgao': 'Secretaria'},\n",
       " {'nome_orgao': 'SUBEM', 'tipo_orgao': 'Subprefeitura'},\n",
       " {'nome_orgao': 'AMLU', 'tipo_orgao': 'Administração Indireta'},\n",
       " {'nome_orgao': 'SUBIP', 'tipo_orgao': 'Subprefeitura'},\n",
       " {'nome_orgao': 'SUBG', 'tipo_orgao': 'Subprefeitura'},\n",
       " {'nome_orgao': 'SUBJA', 'tipo_orgao': 'Subprefeitura'},\n",
       " {'nome_orgao': 'SEME', 'tipo_orgao': 'Secretaria'},\n",
       " {'nome_orgao': 'SPURB', 'tipo_orgao': 'Administração Indireta'},\n",
       " {'nome_orgao': 'SUBPI', 'tipo_orgao': 'Subprefeitura'},\n",
       " {'nome_orgao': 'SMDE', 'tipo_orgao': 'Secretaria'},\n",
       " {'nome_orgao': 'SUBST', 'tipo_orgao': 'Subprefeitura'},\n",
       " {'nome_orgao': 'SIURB', 'tipo_orgao': 'Secretaria'}]"
      ]
     },
     "execution_count": 147,
     "metadata": {},
     "output_type": "execute_result"
    }
   ],
   "source": [
    "questao_1(df, ano = '2019')"
   ]
  },
  {
   "cell_type": "code",
   "execution_count": 148,
   "id": "12d56c62-5302-4418-ba66-d45b4f2a8441",
   "metadata": {},
   "outputs": [
    {
     "ename": "NotImplementedError",
     "evalue": "Ano 2020 não compreendido na pesquisa",
     "output_type": "error",
     "traceback": [
      "\u001b[1;31m---------------------------------------------------------------------------\u001b[0m",
      "\u001b[1;31mNotImplementedError\u001b[0m                       Traceback (most recent call last)",
      "\u001b[1;32m~\\AppData\\Local\\Temp/ipykernel_7272/3714572041.py\u001b[0m in \u001b[0;36m<module>\u001b[1;34m\u001b[0m\n\u001b[1;32m----> 1\u001b[1;33m \u001b[0mquestao_1\u001b[0m\u001b[1;33m(\u001b[0m\u001b[0mdf\u001b[0m \u001b[1;33m=\u001b[0m \u001b[0mdf\u001b[0m\u001b[1;33m,\u001b[0m \u001b[0mano\u001b[0m \u001b[1;33m=\u001b[0m \u001b[1;34m'2020'\u001b[0m\u001b[1;33m)\u001b[0m\u001b[1;33m\u001b[0m\u001b[1;33m\u001b[0m\u001b[0m\n\u001b[0m",
      "\u001b[1;32m~\\AppData\\Local\\Temp/ipykernel_7272/2144475617.py\u001b[0m in \u001b[0;36mdecorated\u001b[1;34m(*args, **kwargs)\u001b[0m\n\u001b[0;32m     20\u001b[0m \u001b[1;33m\u001b[0m\u001b[0m\n\u001b[0;32m     21\u001b[0m         \u001b[1;32mif\u001b[0m \u001b[0mano\u001b[0m \u001b[1;32mnot\u001b[0m \u001b[1;32min\u001b[0m \u001b[0mdf\u001b[0m\u001b[1;33m[\u001b[0m\u001b[1;34m'ano_diagnostico'\u001b[0m\u001b[1;33m]\u001b[0m\u001b[1;33m.\u001b[0m\u001b[0munique\u001b[0m\u001b[1;33m(\u001b[0m\u001b[1;33m)\u001b[0m\u001b[1;33m:\u001b[0m\u001b[1;33m\u001b[0m\u001b[1;33m\u001b[0m\u001b[0m\n\u001b[1;32m---> 22\u001b[1;33m             \u001b[1;32mraise\u001b[0m \u001b[0mNotImplementedError\u001b[0m\u001b[1;33m(\u001b[0m\u001b[1;34mf'Ano {ano} não compreendido na pesquisa'\u001b[0m\u001b[1;33m)\u001b[0m\u001b[1;33m\u001b[0m\u001b[1;33m\u001b[0m\u001b[0m\n\u001b[0m\u001b[0;32m     23\u001b[0m \u001b[1;33m\u001b[0m\u001b[0m\n\u001b[0;32m     24\u001b[0m         \u001b[1;32mreturn\u001b[0m \u001b[0mfunc\u001b[0m\u001b[1;33m(\u001b[0m\u001b[1;33m*\u001b[0m\u001b[0margs\u001b[0m\u001b[1;33m,\u001b[0m \u001b[1;33m**\u001b[0m\u001b[0mkwargs\u001b[0m\u001b[1;33m)\u001b[0m\u001b[1;33m\u001b[0m\u001b[1;33m\u001b[0m\u001b[0m\n",
      "\u001b[1;31mNotImplementedError\u001b[0m: Ano 2020 não compreendido na pesquisa"
     ]
    }
   ],
   "source": [
    "questao_1(df = df, ano = '2020')"
   ]
  },
  {
   "cell_type": "markdown",
   "id": "9b1192a2-c127-4e2a-a7c3-655dbbfed71b",
   "metadata": {},
   "source": [
    "#### Questão 2\n",
    "\n",
    ">Passando o órgão como parâmetro opcional e ano como parâmetros obrigatório na chamada, gostaria que saber quantas pessoas trabalharam de forma dedicada à TI na Prefeitura de São Paulo."
   ]
  },
  {
   "cell_type": "code",
   "execution_count": 149,
   "id": "4a852b0d-22b0-46bf-9675-fea0a1c6251a",
   "metadata": {},
   "outputs": [],
   "source": [
    "@solve_ano\n",
    "@solve_orgao\n",
    "def questao_2(*, df, ano, orgao=None):\n",
    "    \n",
    "    if orgao is not None:\n",
    "    \n",
    "        df = df[df['orgao']==orgao].reset_index(drop=True)\n",
    "        \n",
    "    \n",
    "    df = df[df['ano_diagnostico'] == ano].reset_index(drop=True)\n",
    "    \n",
    "    #certificar que a coluna esta com a tipagm correta\n",
    "    df['qtd_equipe'] = df['qtd_equipe'].astype(int)\n",
    "    \n",
    "    \n",
    "    return {'qtd_pessoas_dedicadas_a_ti' : df['qtd_equipe'].sum()}"
   ]
  },
  {
   "cell_type": "code",
   "execution_count": 150,
   "id": "014e5555-9f48-4e6f-922a-841e89576a58",
   "metadata": {},
   "outputs": [
    {
     "data": {
      "text/plain": [
       "{'qtd_pessoas_dedicadas_a_ti': 607}"
      ]
     },
     "execution_count": 150,
     "metadata": {},
     "output_type": "execute_result"
    }
   ],
   "source": [
    "questao_2(df=df, ano=2019)"
   ]
  },
  {
   "cell_type": "code",
   "execution_count": 151,
   "id": "99f59b0d-3f64-4e40-a20b-27f04e58ba43",
   "metadata": {},
   "outputs": [
    {
     "data": {
      "text/plain": [
       "{'qtd_pessoas_dedicadas_a_ti': 5}"
      ]
     },
     "execution_count": 151,
     "metadata": {},
     "output_type": "execute_result"
    }
   ],
   "source": [
    "questao_2(df= df, ano = 2019, orgao = 'SMIT')"
   ]
  },
  {
   "cell_type": "code",
   "execution_count": 152,
   "id": "77ad6ec0-531c-41fd-935e-168883e89dea",
   "metadata": {},
   "outputs": [
    {
     "ename": "NotImplementedError",
     "evalue": "Ano 2005 não compreendido na pesquisa",
     "output_type": "error",
     "traceback": [
      "\u001b[1;31m---------------------------------------------------------------------------\u001b[0m",
      "\u001b[1;31mNotImplementedError\u001b[0m                       Traceback (most recent call last)",
      "\u001b[1;32m~\\AppData\\Local\\Temp/ipykernel_7272/1647186183.py\u001b[0m in \u001b[0;36m<module>\u001b[1;34m\u001b[0m\n\u001b[1;32m----> 1\u001b[1;33m \u001b[0mquestao_2\u001b[0m\u001b[1;33m(\u001b[0m\u001b[0mdf\u001b[0m \u001b[1;33m=\u001b[0m \u001b[0mdf\u001b[0m\u001b[1;33m,\u001b[0m \u001b[0mano\u001b[0m \u001b[1;33m=\u001b[0m \u001b[1;36m2005\u001b[0m\u001b[1;33m,\u001b[0m \u001b[0morgao\u001b[0m \u001b[1;33m=\u001b[0m \u001b[1;34m'smit'\u001b[0m\u001b[1;33m)\u001b[0m\u001b[1;33m\u001b[0m\u001b[1;33m\u001b[0m\u001b[0m\n\u001b[0m",
      "\u001b[1;32m~\\AppData\\Local\\Temp/ipykernel_7272/2144475617.py\u001b[0m in \u001b[0;36mdecorated\u001b[1;34m(*args, **kwargs)\u001b[0m\n\u001b[0;32m     20\u001b[0m \u001b[1;33m\u001b[0m\u001b[0m\n\u001b[0;32m     21\u001b[0m         \u001b[1;32mif\u001b[0m \u001b[0mano\u001b[0m \u001b[1;32mnot\u001b[0m \u001b[1;32min\u001b[0m \u001b[0mdf\u001b[0m\u001b[1;33m[\u001b[0m\u001b[1;34m'ano_diagnostico'\u001b[0m\u001b[1;33m]\u001b[0m\u001b[1;33m.\u001b[0m\u001b[0munique\u001b[0m\u001b[1;33m(\u001b[0m\u001b[1;33m)\u001b[0m\u001b[1;33m:\u001b[0m\u001b[1;33m\u001b[0m\u001b[1;33m\u001b[0m\u001b[0m\n\u001b[1;32m---> 22\u001b[1;33m             \u001b[1;32mraise\u001b[0m \u001b[0mNotImplementedError\u001b[0m\u001b[1;33m(\u001b[0m\u001b[1;34mf'Ano {ano} não compreendido na pesquisa'\u001b[0m\u001b[1;33m)\u001b[0m\u001b[1;33m\u001b[0m\u001b[1;33m\u001b[0m\u001b[0m\n\u001b[0m\u001b[0;32m     23\u001b[0m \u001b[1;33m\u001b[0m\u001b[0m\n\u001b[0;32m     24\u001b[0m         \u001b[1;32mreturn\u001b[0m \u001b[0mfunc\u001b[0m\u001b[1;33m(\u001b[0m\u001b[1;33m*\u001b[0m\u001b[0margs\u001b[0m\u001b[1;33m,\u001b[0m \u001b[1;33m**\u001b[0m\u001b[0mkwargs\u001b[0m\u001b[1;33m)\u001b[0m\u001b[1;33m\u001b[0m\u001b[1;33m\u001b[0m\u001b[0m\n",
      "\u001b[1;31mNotImplementedError\u001b[0m: Ano 2005 não compreendido na pesquisa"
     ]
    }
   ],
   "source": [
    "questao_2(df = df, ano = 2005, orgao = 'smit')"
   ]
  },
  {
   "cell_type": "code",
   "execution_count": 155,
   "id": "6f0ade11-ec30-4d50-8cc5-fe60adc7da90",
   "metadata": {},
   "outputs": [
    {
     "ename": "NotImplementedError",
     "evalue": "Orgao SEMPLA não compreendido na pesquisa",
     "output_type": "error",
     "traceback": [
      "\u001b[1;31m---------------------------------------------------------------------------\u001b[0m",
      "\u001b[1;31mNotImplementedError\u001b[0m                       Traceback (most recent call last)",
      "\u001b[1;32m~\\AppData\\Local\\Temp/ipykernel_7272/2508795302.py\u001b[0m in \u001b[0;36m<module>\u001b[1;34m\u001b[0m\n\u001b[1;32m----> 1\u001b[1;33m \u001b[0mquestao_2\u001b[0m\u001b[1;33m(\u001b[0m\u001b[0mdf\u001b[0m \u001b[1;33m=\u001b[0m \u001b[0mdf\u001b[0m\u001b[1;33m,\u001b[0m \u001b[0mano\u001b[0m \u001b[1;33m=\u001b[0m \u001b[1;36m2019\u001b[0m\u001b[1;33m,\u001b[0m \u001b[0morgao\u001b[0m \u001b[1;33m=\u001b[0m \u001b[1;34m'SEMPLA'\u001b[0m\u001b[1;33m)\u001b[0m\u001b[1;33m\u001b[0m\u001b[1;33m\u001b[0m\u001b[0m\n\u001b[0m",
      "\u001b[1;32m~\\AppData\\Local\\Temp/ipykernel_7272/2144475617.py\u001b[0m in \u001b[0;36mdecorated\u001b[1;34m(*args, **kwargs)\u001b[0m\n\u001b[0;32m     22\u001b[0m             \u001b[1;32mraise\u001b[0m \u001b[0mNotImplementedError\u001b[0m\u001b[1;33m(\u001b[0m\u001b[1;34mf'Ano {ano} não compreendido na pesquisa'\u001b[0m\u001b[1;33m)\u001b[0m\u001b[1;33m\u001b[0m\u001b[1;33m\u001b[0m\u001b[0m\n\u001b[0;32m     23\u001b[0m \u001b[1;33m\u001b[0m\u001b[0m\n\u001b[1;32m---> 24\u001b[1;33m         \u001b[1;32mreturn\u001b[0m \u001b[0mfunc\u001b[0m\u001b[1;33m(\u001b[0m\u001b[1;33m*\u001b[0m\u001b[0margs\u001b[0m\u001b[1;33m,\u001b[0m \u001b[1;33m**\u001b[0m\u001b[0mkwargs\u001b[0m\u001b[1;33m)\u001b[0m\u001b[1;33m\u001b[0m\u001b[1;33m\u001b[0m\u001b[0m\n\u001b[0m\u001b[0;32m     25\u001b[0m \u001b[1;33m\u001b[0m\u001b[0m\n\u001b[0;32m     26\u001b[0m     \u001b[1;32mreturn\u001b[0m \u001b[0mdecorated\u001b[0m\u001b[1;33m\u001b[0m\u001b[1;33m\u001b[0m\u001b[0m\n",
      "\u001b[1;32m~\\AppData\\Local\\Temp/ipykernel_7272/1669809156.py\u001b[0m in \u001b[0;36mdecorated\u001b[1;34m(*args, **kwargs)\u001b[0m\n\u001b[0;32m     19\u001b[0m \u001b[1;33m\u001b[0m\u001b[0m\n\u001b[0;32m     20\u001b[0m             \u001b[1;32mif\u001b[0m \u001b[0morgao\u001b[0m \u001b[1;32mnot\u001b[0m \u001b[1;32min\u001b[0m \u001b[0mdf\u001b[0m\u001b[1;33m[\u001b[0m\u001b[1;34m'orgao'\u001b[0m\u001b[1;33m]\u001b[0m\u001b[1;33m.\u001b[0m\u001b[0munique\u001b[0m\u001b[1;33m(\u001b[0m\u001b[1;33m)\u001b[0m\u001b[1;33m:\u001b[0m\u001b[1;33m\u001b[0m\u001b[1;33m\u001b[0m\u001b[0m\n\u001b[1;32m---> 21\u001b[1;33m                 \u001b[1;32mraise\u001b[0m \u001b[0mNotImplementedError\u001b[0m\u001b[1;33m(\u001b[0m\u001b[1;34mf'Orgao {orgao} não compreendido na pesquisa'\u001b[0m\u001b[1;33m)\u001b[0m\u001b[1;33m\u001b[0m\u001b[1;33m\u001b[0m\u001b[0m\n\u001b[0m\u001b[0;32m     22\u001b[0m \u001b[1;33m\u001b[0m\u001b[0m\n\u001b[0;32m     23\u001b[0m             \u001b[0mkwargs\u001b[0m\u001b[1;33m[\u001b[0m\u001b[1;34m'orgao'\u001b[0m\u001b[1;33m]\u001b[0m \u001b[1;33m=\u001b[0m \u001b[0morgao\u001b[0m\u001b[1;33m\u001b[0m\u001b[1;33m\u001b[0m\u001b[0m\n",
      "\u001b[1;31mNotImplementedError\u001b[0m: Orgao SEMPLA não compreendido na pesquisa"
     ]
    }
   ],
   "source": [
    "questao_2(df = df, ano = 2019, orgao = 'SEMPLA')"
   ]
  },
  {
   "cell_type": "markdown",
   "id": "1679bb34-fe4d-4a3e-ac27-53628ea8e08c",
   "metadata": {},
   "source": [
    "#### Questão 3\n",
    "\n",
    ">Considerando que todas as pessoas que trabalharam de forma dedicada a TI receberam R$ 12.500,00/mês, gostaria de saber qual a proporção de custo com pessoal de TI por tipo de órgão."
   ]
  },
  {
   "cell_type": "code",
   "execution_count": 165,
   "id": "b0fc38bd-4372-48e9-938c-a0e7070c060c",
   "metadata": {},
   "outputs": [],
   "source": [
    "def questao_3(df):\n",
    "    \n",
    "    SALARIO_TI = 12500\n",
    "    df['salario'] = SALARIO_TI\n",
    "    total = df['salario'].sum()\n",
    "    grouped = df.groupby('tipo_orgao')['salario'].sum()/total\n",
    "    \n",
    "    assert grouped.sum()==1\n",
    "    \n",
    "    return grouped"
   ]
  },
  {
   "cell_type": "code",
   "execution_count": 166,
   "id": "9339fd6f-b80a-426a-bd55-fadca342cd0f",
   "metadata": {},
   "outputs": [
    {
     "data": {
      "text/plain": [
       "tipo_orgao\n",
       "Administração Indireta    0.174129\n",
       "Secretaria                0.358209\n",
       "Subprefeitura             0.467662\n",
       "Name: salario, dtype: float64"
      ]
     },
     "execution_count": 166,
     "metadata": {},
     "output_type": "execute_result"
    }
   ],
   "source": [
    "questao_3(df)"
   ]
  },
  {
   "cell_type": "markdown",
   "id": "3df793d2-2109-46d1-b52a-bc8b25a4ea6e",
   "metadata": {},
   "source": [
    "#### Questao 4\n",
    ">Gostaria de listar a quantidade de desktop próprios e desktop locados, por secretaria."
   ]
  },
  {
   "cell_type": "code",
   "execution_count": null,
   "id": "2d6c9e45-2504-4597-bce8-9bcde10bbc07",
   "metadata": {},
   "outputs": [],
   "source": []
  }
 ],
 "metadata": {
  "kernelspec": {
   "display_name": "Python 3 (ipykernel)",
   "language": "python",
   "name": "python3"
  },
  "language_info": {
   "codemirror_mode": {
    "name": "ipython",
    "version": 3
   },
   "file_extension": ".py",
   "mimetype": "text/x-python",
   "name": "python",
   "nbconvert_exporter": "python",
   "pygments_lexer": "ipython3",
   "version": "3.9.7"
  }
 },
 "nbformat": 4,
 "nbformat_minor": 5
}
