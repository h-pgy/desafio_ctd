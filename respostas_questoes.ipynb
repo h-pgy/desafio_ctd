{
 "cells": [
  {
   "cell_type": "code",
   "execution_count": 1,
   "id": "b5f3d7e9-8bed-4e2a-a874-ef799ca5cda2",
   "metadata": {},
   "outputs": [],
   "source": [
    "import pandas as pd\n",
    "import sqlite3\n",
    "import os\n",
    "from functools import wraps\n",
    "from datetime import datetime\n",
    "import matplotlib.pyplot as plt"
   ]
  },
  {
   "cell_type": "markdown",
   "id": "aca354ae-1aeb-4b4b-af21-1865b2587359",
   "metadata": {},
   "source": [
    "# Objetivo do notebook\n",
    "\n",
    "Este notebook tem por objetivo responder às questões enviadas para o desafio, registrando de forma compreensível por humanos a metodologia e os processamentos que serão implementados nos endpoints da API.\n",
    "\n",
    "Também registraremos aqui a resposta à última questão, que, conforme instruções enviadas, deve ser respondida separadamente, não entrando no escopo da API."
   ]
  },
  {
   "cell_type": "markdown",
   "id": "c26dd25b-8e94-4c7f-8ea3-b3f126b3b263",
   "metadata": {},
   "source": [
    "#### Carregando os dados\n",
    "\n",
    "Nas células a seguir carregaremos os dados gerados pelo ETL (ver notebook \"etl_dados_para_sqlite.ipynb\")"
   ]
  },
  {
   "cell_type": "code",
   "execution_count": 2,
   "id": "e77ead8d-fa84-4b2e-8668-fc857a6b7258",
   "metadata": {},
   "outputs": [],
   "source": [
    "path_dados = os.path.abspath(os.path.join('data', 'desafio_selecao.db'))\n",
    "con = sqlite3.connect(path_dados)"
   ]
  },
  {
   "cell_type": "code",
   "execution_count": 3,
   "id": "18f5b133-8b7f-4b84-9099-b732ea71ea3d",
   "metadata": {},
   "outputs": [],
   "source": [
    "df = pd.read_sql('SELECT * FROM respostas_diagnostico', con)"
   ]
  },
  {
   "cell_type": "code",
   "execution_count": 4,
   "id": "8a8ec397-bc6a-4ff5-8cf3-5b770702339e",
   "metadata": {},
   "outputs": [],
   "source": [
    "con.close()"
   ]
  },
  {
   "cell_type": "code",
   "execution_count": 5,
   "id": "a7f9f6b4-7ede-463f-aaa0-3864f346087f",
   "metadata": {},
   "outputs": [
    {
     "data": {
      "text/html": [
       "<div>\n",
       "<style scoped>\n",
       "    .dataframe tbody tr th:only-of-type {\n",
       "        vertical-align: middle;\n",
       "    }\n",
       "\n",
       "    .dataframe tbody tr th {\n",
       "        vertical-align: top;\n",
       "    }\n",
       "\n",
       "    .dataframe thead th {\n",
       "        text-align: right;\n",
       "    }\n",
       "</style>\n",
       "<table border=\"1\" class=\"dataframe\">\n",
       "  <thead>\n",
       "    <tr style=\"text-align: right;\">\n",
       "      <th></th>\n",
       "      <th>id_resposta</th>\n",
       "      <th>ano_diagnostico</th>\n",
       "      <th>data_submissao</th>\n",
       "      <th>orgao</th>\n",
       "      <th>tipo_orgao</th>\n",
       "      <th>qtd_equipe</th>\n",
       "      <th>utiliza_metodologia</th>\n",
       "      <th>desktop_proprio</th>\n",
       "      <th>desktop_locado</th>\n",
       "      <th>desktop_proprio_antigo</th>\n",
       "    </tr>\n",
       "  </thead>\n",
       "  <tbody>\n",
       "    <tr>\n",
       "      <th>0</th>\n",
       "      <td>5</td>\n",
       "      <td>2017</td>\n",
       "      <td>2017-04-20 10:39:54</td>\n",
       "      <td>SUBPR</td>\n",
       "      <td>Subprefeitura</td>\n",
       "      <td>3.0</td>\n",
       "      <td>0.0</td>\n",
       "      <td>152</td>\n",
       "      <td>0</td>\n",
       "      <td>107</td>\n",
       "    </tr>\n",
       "    <tr>\n",
       "      <th>1</th>\n",
       "      <td>8</td>\n",
       "      <td>2019</td>\n",
       "      <td>2019-04-12 10:55:24</td>\n",
       "      <td>SMS</td>\n",
       "      <td>Secretaria</td>\n",
       "      <td>58.0</td>\n",
       "      <td>0.0</td>\n",
       "      <td>12500</td>\n",
       "      <td>0</td>\n",
       "      <td>6927.0000000000</td>\n",
       "    </tr>\n",
       "    <tr>\n",
       "      <th>2</th>\n",
       "      <td>9</td>\n",
       "      <td>2019</td>\n",
       "      <td>2019-04-05 15:57:10</td>\n",
       "      <td>SUBSA</td>\n",
       "      <td>Subprefeitura</td>\n",
       "      <td>3.0</td>\n",
       "      <td>NaN</td>\n",
       "      <td>36</td>\n",
       "      <td>90</td>\n",
       "      <td>0.0000000000</td>\n",
       "    </tr>\n",
       "    <tr>\n",
       "      <th>3</th>\n",
       "      <td>10</td>\n",
       "      <td>2017</td>\n",
       "      <td>2017-05-17 09:13:17</td>\n",
       "      <td>IPREM</td>\n",
       "      <td>Administração Indireta</td>\n",
       "      <td>6.0</td>\n",
       "      <td>0.0</td>\n",
       "      <td>200</td>\n",
       "      <td>0</td>\n",
       "      <td>0</td>\n",
       "    </tr>\n",
       "    <tr>\n",
       "      <th>4</th>\n",
       "      <td>10</td>\n",
       "      <td>2019</td>\n",
       "      <td>2019-03-25 14:40:06</td>\n",
       "      <td>SUBST</td>\n",
       "      <td>Subprefeitura</td>\n",
       "      <td>3.0</td>\n",
       "      <td>NaN</td>\n",
       "      <td>150</td>\n",
       "      <td>0</td>\n",
       "      <td>150.0000000000</td>\n",
       "    </tr>\n",
       "  </tbody>\n",
       "</table>\n",
       "</div>"
      ],
      "text/plain": [
       "   id_resposta  ano_diagnostico       data_submissao  orgao  \\\n",
       "0            5             2017  2017-04-20 10:39:54  SUBPR   \n",
       "1            8             2019  2019-04-12 10:55:24    SMS   \n",
       "2            9             2019  2019-04-05 15:57:10  SUBSA   \n",
       "3           10             2017  2017-05-17 09:13:17  IPREM   \n",
       "4           10             2019  2019-03-25 14:40:06  SUBST   \n",
       "\n",
       "               tipo_orgao  qtd_equipe  utiliza_metodologia desktop_proprio  \\\n",
       "0           Subprefeitura         3.0                  0.0             152   \n",
       "1              Secretaria        58.0                  0.0           12500   \n",
       "2           Subprefeitura         3.0                  NaN              36   \n",
       "3  Administração Indireta         6.0                  0.0             200   \n",
       "4           Subprefeitura         3.0                  NaN             150   \n",
       "\n",
       "  desktop_locado desktop_proprio_antigo  \n",
       "0              0                    107  \n",
       "1              0        6927.0000000000  \n",
       "2             90           0.0000000000  \n",
       "3              0                      0  \n",
       "4              0         150.0000000000  "
      ]
     },
     "execution_count": 5,
     "metadata": {},
     "output_type": "execute_result"
    }
   ],
   "source": [
    "df.head()"
   ]
  },
  {
   "cell_type": "code",
   "execution_count": 6,
   "id": "19ccbf6b-ddad-4841-bb79-a1eced48cd29",
   "metadata": {},
   "outputs": [
    {
     "data": {
      "text/plain": [
       "307"
      ]
     },
     "execution_count": 6,
     "metadata": {},
     "output_type": "execute_result"
    }
   ],
   "source": [
    "len(df)"
   ]
  },
  {
   "cell_type": "code",
   "execution_count": 7,
   "id": "100d0dde-219c-41ea-be5f-66307615a4eb",
   "metadata": {},
   "outputs": [
    {
     "data": {
      "text/plain": [
       "id_resposta                 int64\n",
       "ano_diagnostico             int64\n",
       "data_submissao             object\n",
       "orgao                      object\n",
       "tipo_orgao                 object\n",
       "qtd_equipe                float64\n",
       "utiliza_metodologia       float64\n",
       "desktop_proprio            object\n",
       "desktop_locado             object\n",
       "desktop_proprio_antigo     object\n",
       "dtype: object"
      ]
     },
     "execution_count": 7,
     "metadata": {},
     "output_type": "execute_result"
    }
   ],
   "source": [
    "df.dtypes"
   ]
  },
  {
   "cell_type": "markdown",
   "id": "c6fffd7d-7689-4d84-bc74-7327f743ef56",
   "metadata": {},
   "source": [
    "Algumas colunas que parecem ser float vieram como text, mas isso está de acordo com o schema e com o dicionário de variáveis.\n",
    "\n",
    "É possível que tenhamos que tratar isso, no entanto, para responder alguma das questões."
   ]
  },
  {
   "cell_type": "markdown",
   "id": "7c5173db-8b07-4c8c-873d-93121e2ab8b4",
   "metadata": {},
   "source": [
    "### Filtrando pela data de reposição\n",
    "\n",
    "Conforme orientações:\n",
    "\n",
    "> É importante ressaltar também que o campo data_submissao é preenchido apenas quando o formulário é efetivamente concluído e aceito. Por isso, considere somente as respostas que possuam o campo data_submissao preenchido!"
   ]
  },
  {
   "cell_type": "code",
   "execution_count": 8,
   "id": "1b1b167d-b1fa-4557-9060-b2f906159c95",
   "metadata": {},
   "outputs": [],
   "source": [
    "sem_data = df['data_submissao'].isnull()"
   ]
  },
  {
   "cell_type": "code",
   "execution_count": 9,
   "id": "9cdd0dc3-7e4d-4dd2-b0fb-de68e9cbc808",
   "metadata": {},
   "outputs": [
    {
     "data": {
      "text/plain": [
       "0.34527687296416937"
      ]
     },
     "execution_count": 9,
     "metadata": {},
     "output_type": "execute_result"
    }
   ],
   "source": [
    "sem_data.mean()"
   ]
  },
  {
   "cell_type": "markdown",
   "id": "55308d22-7be5-4649-9874-39d6eea1df00",
   "metadata": {},
   "source": [
    "Aproximadamente 30% das respostas nao possui data de submissao"
   ]
  },
  {
   "cell_type": "code",
   "execution_count": 10,
   "id": "3fe1d10b-f34e-446a-8c0c-bda254080b52",
   "metadata": {},
   "outputs": [
    {
     "data": {
      "text/html": [
       "<div>\n",
       "<style scoped>\n",
       "    .dataframe tbody tr th:only-of-type {\n",
       "        vertical-align: middle;\n",
       "    }\n",
       "\n",
       "    .dataframe tbody tr th {\n",
       "        vertical-align: top;\n",
       "    }\n",
       "\n",
       "    .dataframe thead th {\n",
       "        text-align: right;\n",
       "    }\n",
       "</style>\n",
       "<table border=\"1\" class=\"dataframe\">\n",
       "  <thead>\n",
       "    <tr style=\"text-align: right;\">\n",
       "      <th></th>\n",
       "      <th>id_resposta</th>\n",
       "      <th>ano_diagnostico</th>\n",
       "      <th>data_submissao</th>\n",
       "      <th>orgao</th>\n",
       "      <th>tipo_orgao</th>\n",
       "      <th>qtd_equipe</th>\n",
       "      <th>utiliza_metodologia</th>\n",
       "      <th>desktop_proprio</th>\n",
       "      <th>desktop_locado</th>\n",
       "      <th>desktop_proprio_antigo</th>\n",
       "    </tr>\n",
       "  </thead>\n",
       "  <tbody>\n",
       "    <tr>\n",
       "      <th>237</th>\n",
       "      <td>329</td>\n",
       "      <td>2017</td>\n",
       "      <td>None</td>\n",
       "      <td>None</td>\n",
       "      <td>None</td>\n",
       "      <td>NaN</td>\n",
       "      <td>NaN</td>\n",
       "      <td>None</td>\n",
       "      <td>None</td>\n",
       "      <td>None</td>\n",
       "    </tr>\n",
       "    <tr>\n",
       "      <th>300</th>\n",
       "      <td>394</td>\n",
       "      <td>2017</td>\n",
       "      <td>None</td>\n",
       "      <td>None</td>\n",
       "      <td>None</td>\n",
       "      <td>NaN</td>\n",
       "      <td>NaN</td>\n",
       "      <td>None</td>\n",
       "      <td>None</td>\n",
       "      <td>None</td>\n",
       "    </tr>\n",
       "    <tr>\n",
       "      <th>223</th>\n",
       "      <td>313</td>\n",
       "      <td>2017</td>\n",
       "      <td>None</td>\n",
       "      <td>None</td>\n",
       "      <td>None</td>\n",
       "      <td>NaN</td>\n",
       "      <td>NaN</td>\n",
       "      <td>None</td>\n",
       "      <td>None</td>\n",
       "      <td>None</td>\n",
       "    </tr>\n",
       "    <tr>\n",
       "      <th>212</th>\n",
       "      <td>302</td>\n",
       "      <td>2017</td>\n",
       "      <td>None</td>\n",
       "      <td>A25</td>\n",
       "      <td>None</td>\n",
       "      <td>0.0</td>\n",
       "      <td>0.0</td>\n",
       "      <td>None</td>\n",
       "      <td>None</td>\n",
       "      <td>None</td>\n",
       "    </tr>\n",
       "    <tr>\n",
       "      <th>248</th>\n",
       "      <td>340</td>\n",
       "      <td>2017</td>\n",
       "      <td>None</td>\n",
       "      <td>None</td>\n",
       "      <td>None</td>\n",
       "      <td>NaN</td>\n",
       "      <td>NaN</td>\n",
       "      <td>None</td>\n",
       "      <td>None</td>\n",
       "      <td>None</td>\n",
       "    </tr>\n",
       "  </tbody>\n",
       "</table>\n",
       "</div>"
      ],
      "text/plain": [
       "     id_resposta  ano_diagnostico data_submissao orgao tipo_orgao  qtd_equipe  \\\n",
       "237          329             2017           None  None       None         NaN   \n",
       "300          394             2017           None  None       None         NaN   \n",
       "223          313             2017           None  None       None         NaN   \n",
       "212          302             2017           None   A25       None         0.0   \n",
       "248          340             2017           None  None       None         NaN   \n",
       "\n",
       "     utiliza_metodologia desktop_proprio desktop_locado desktop_proprio_antigo  \n",
       "237                  NaN            None           None                   None  \n",
       "300                  NaN            None           None                   None  \n",
       "223                  NaN            None           None                   None  \n",
       "212                  0.0            None           None                   None  \n",
       "248                  NaN            None           None                   None  "
      ]
     },
     "execution_count": 10,
     "metadata": {},
     "output_type": "execute_result"
    }
   ],
   "source": [
    "df[sem_data].sample(5)"
   ]
  },
  {
   "cell_type": "markdown",
   "id": "8e4e0423-1f00-426f-a6e1-d07ccfff11e2",
   "metadata": {},
   "source": [
    "Como podemos ver, os formulário sem data de submissão vieram de fato incompletos.\n",
    "\n",
    "Vamos inserir portanto esse filtro na função de obtenção dos dados, para garantir que ele seja sempre realizado."
   ]
  },
  {
   "cell_type": "code",
   "execution_count": 11,
   "id": "86b3e86b-5708-48ab-ba88-63d2bbc1fcec",
   "metadata": {},
   "outputs": [],
   "source": [
    "def get_data():\n",
    "    \n",
    "    path_dados = os.path.abspath(os.path.join('data', 'desafio_selecao.db'))\n",
    "    con = sqlite3.connect(path_dados)\n",
    "    \n",
    "    df = pd.read_sql('SELECT * FROM respostas_diagnostico WHERE data_submissao NOT NULL', \n",
    "                     con)\n",
    "    \n",
    "    return df"
   ]
  },
  {
   "cell_type": "code",
   "execution_count": 12,
   "id": "3a078737-52a0-499d-9d4e-a2667b4f8ccc",
   "metadata": {},
   "outputs": [],
   "source": [
    "df = get_data()"
   ]
  },
  {
   "cell_type": "code",
   "execution_count": 13,
   "id": "f4a045c2-d8fb-4e0d-80c3-4092458193e2",
   "metadata": {},
   "outputs": [],
   "source": [
    "assert df['data_submissao'].notnull().all()"
   ]
  },
  {
   "cell_type": "markdown",
   "id": "728bbd85-3e87-4b1b-868e-00aff5cdd74a",
   "metadata": {},
   "source": [
    "Como diversas questões utilizam o parâmetro ano, vamos criar um decorator para limpar esse dado e levantar erros semânticos caso o parâmetro seja imputado incorretamente (por exemplo, caso seja um ano não compreendido na pesquisa).\n",
    "\n",
    "O mesmo será feito para o parametro secretaria.\n",
    "\n",
    "Além disso, vamos fazer uma função para sempre copiar o dataframe, evitando que ele seja modificado globalmente.\n",
    "\n",
    "Como os dados são pequenos, isso nos permitirá fazer uma otimização na API, colocando os dados in memory e apenas copiando o objeto dataframe de thread a thread da API. Isso nos permitirá evitar fazer a leitura dos dados (que é uma ação de I.O. um pouco mais lenta). Note que isso é recomendado apenas para casos como esse, em que a quantidade de dados é pequena. Em outros casos, o ideal é fazer a leitura dos dados a cada chamada de API, e implementar algum tipo de cache."
   ]
  },
  {
   "cell_type": "code",
   "execution_count": 14,
   "id": "aa4c47c5-e722-424d-a414-fd73a277637d",
   "metadata": {},
   "outputs": [],
   "source": [
    "def solve_ano(func):\n",
    "    '''\n",
    "    Solves the ano param, raising appropriated errors.\n",
    "    Decorated func must have one keyword arguments named\n",
    "    ano. Also, df should be the first positional argument'''\n",
    "    \n",
    "    @wraps(func)\n",
    "    def decorated(*args, **kwargs):\n",
    "        \n",
    "        if len(args)<1:\n",
    "            df = kwargs['df']\n",
    "        else:\n",
    "            df =  args[0]\n",
    "        ano = kwargs.pop('ano')\n",
    "        try:\n",
    "            ano = int(ano)\n",
    "            kwargs['ano'] = ano\n",
    "        except ValueError:\n",
    "            raise ValueError('Param <ano> must be integer, float or a string convertible to int')\n",
    "\n",
    "        if ano not in df['ano_diagnostico'].unique():\n",
    "            raise NotImplementedError(f'Ano {ano} não compreendido na pesquisa')\n",
    "            \n",
    "        return func(*args, **kwargs)\n",
    "    \n",
    "    return decorated"
   ]
  },
  {
   "cell_type": "code",
   "execution_count": 15,
   "id": "452b6981-af14-427a-a2a6-989f331efe50",
   "metadata": {},
   "outputs": [],
   "source": [
    "def solve_orgao(func):\n",
    "    '''\n",
    "    Solves the orgao param, raising appropriated errors.\n",
    "    Decorated func must have one keyword arguments named\n",
    "    orgao. Also, df should be the first positional argument'''\n",
    "    \n",
    "    @wraps(func)\n",
    "    def decorated(*args, **kwargs):\n",
    "        \n",
    "        if len(args)<1:\n",
    "            df = kwargs['df']\n",
    "        else:\n",
    "            df =  args[0]\n",
    "        orgao = kwargs.get('orgao')\n",
    "        if orgao is not None:\n",
    "            if type(orgao) is not str:\n",
    "                raise ValueError('Param <orgao> must be string')\n",
    "            orgao = orgao.upper()\n",
    "\n",
    "            if orgao not in df['orgao'].unique():\n",
    "                raise NotImplementedError(f'Orgao {orgao} não compreendido na pesquisa')\n",
    "            \n",
    "            kwargs['orgao'] = orgao\n",
    "            \n",
    "        return func(*args, **kwargs)\n",
    "    \n",
    "    return decorated"
   ]
  },
  {
   "cell_type": "code",
   "execution_count": 16,
   "id": "80bc68f3-5863-460d-9173-d95de33293c8",
   "metadata": {},
   "outputs": [],
   "source": [
    "def copy_df(func):\n",
    "    '''\n",
    "    Copies the dataframe, avoiding unwanted modifications\n",
    "    '''\n",
    "    \n",
    "    @wraps(func)\n",
    "    def decorated(*args, **kwargs):\n",
    "        \n",
    "        if len(args)<1:\n",
    "            df = kwargs['df']\n",
    "            df = df.copy()\n",
    "            kwargs['df'] = df\n",
    "        else:\n",
    "            df =  args[0]\n",
    "            df = df.copy()\n",
    "            args = list(args)\n",
    "            args[0] = df\n",
    "        \n",
    "            \n",
    "        return func(*args, **kwargs)\n",
    "    \n",
    "    return decorated"
   ]
  },
  {
   "cell_type": "markdown",
   "id": "6b5ba984-17f4-494c-829d-cb677c3ed060",
   "metadata": {},
   "source": [
    "#### Questão 1\n",
    "\n",
    "> Gostaria de listar os órgãos que responderam a pesquisa, passando o ano referência do diagnóstico como parâmetro. Eles devem ser apresentados como uma lista de objetos e conter minimante o nome do órgão e o tipo de órgão."
   ]
  },
  {
   "cell_type": "code",
   "execution_count": 17,
   "id": "87f26772-d0f8-4325-bde1-a92491a527ab",
   "metadata": {},
   "outputs": [],
   "source": [
    "@solve_ano\n",
    "@copy_df\n",
    "def questao_1(df, *, ano):\n",
    "    \n",
    "    filtro_ano = df['ano_diagnostico'] == ano\n",
    "    df_ano = df[filtro_ano].reset_index(drop=True)\n",
    "    \n",
    "    orgaos_e_tipos = set()\n",
    "    \n",
    "    for i, row in df_ano.iterrows():\n",
    "        \n",
    "        orgaos_e_tipos.add((row['orgao'], row['tipo_orgao']))\n",
    "    \n",
    "    return [{'nome_orgao' : orgao, 'tipo_orgao' : tipo} for orgao, tipo in orgaos_e_tipos]"
   ]
  },
  {
   "cell_type": "code",
   "execution_count": 18,
   "id": "128c37e7-ce3f-41ed-8a5b-b7ce0f1c8646",
   "metadata": {},
   "outputs": [
    {
     "data": {
      "text/plain": [
       "[{'nome_orgao': 'SUBLA', 'tipo_orgao': 'Subprefeitura'},\n",
       " {'nome_orgao': 'SUBSA', 'tipo_orgao': 'Subprefeitura'},\n",
       " {'nome_orgao': 'PGM', 'tipo_orgao': 'Secretaria'},\n",
       " {'nome_orgao': 'SPTUR', 'tipo_orgao': 'Administração Indireta'},\n",
       " {'nome_orgao': 'SMUL', 'tipo_orgao': 'Secretaria'},\n",
       " {'nome_orgao': 'SUBCS', 'tipo_orgao': 'Subprefeitura'},\n",
       " {'nome_orgao': 'SUBPR', 'tipo_orgao': 'Subprefeitura'},\n",
       " {'nome_orgao': 'SUBG', 'tipo_orgao': 'Subprefeitura'},\n",
       " {'nome_orgao': 'SUBPA', 'tipo_orgao': 'Subprefeitura'},\n",
       " {'nome_orgao': 'SPPAR', 'tipo_orgao': 'Administração Indireta'},\n",
       " {'nome_orgao': 'AMLU', 'tipo_orgao': 'Administração Indireta'},\n",
       " {'nome_orgao': 'SUBIP', 'tipo_orgao': 'Subprefeitura'},\n",
       " {'nome_orgao': 'FT', 'tipo_orgao': 'Secretaria'},\n",
       " {'nome_orgao': 'SIURB', 'tipo_orgao': 'Secretaria'},\n",
       " {'nome_orgao': 'SUBPE', 'tipo_orgao': 'Subprefeitura'},\n",
       " {'nome_orgao': 'HSPM', 'tipo_orgao': 'Administração Indireta'},\n",
       " {'nome_orgao': 'SUBCV', 'tipo_orgao': 'Subprefeitura'},\n",
       " {'nome_orgao': 'COHAB', 'tipo_orgao': 'Administração Indireta'},\n",
       " {'nome_orgao': 'SUBPJ', 'tipo_orgao': 'Subprefeitura'},\n",
       " {'nome_orgao': 'SME', 'tipo_orgao': 'Secretaria'},\n",
       " {'nome_orgao': 'SPURB', 'tipo_orgao': 'Administração Indireta'},\n",
       " {'nome_orgao': 'SUBJA', 'tipo_orgao': 'Subprefeitura'},\n",
       " {'nome_orgao': 'AHM', 'tipo_orgao': 'Administração Indireta'},\n",
       " {'nome_orgao': 'SUBJT', 'tipo_orgao': 'Subprefeitura'},\n",
       " {'nome_orgao': 'SMDE', 'tipo_orgao': 'Secretaria'},\n",
       " {'nome_orgao': 'SEHAB', 'tipo_orgao': 'Secretaria'},\n",
       " {'nome_orgao': 'SMADS', 'tipo_orgao': 'Secretaria'},\n",
       " {'nome_orgao': 'SUBIT', 'tipo_orgao': 'Subprefeitura'},\n",
       " {'nome_orgao': 'SUBSM', 'tipo_orgao': 'Subprefeitura'},\n",
       " {'nome_orgao': 'SUBMB', 'tipo_orgao': 'Subprefeitura'},\n",
       " {'nome_orgao': 'SG', 'tipo_orgao': 'Secretaria'},\n",
       " {'nome_orgao': 'SUBAF', 'tipo_orgao': 'Subprefeitura'},\n",
       " {'nome_orgao': 'SUBVM', 'tipo_orgao': 'Subprefeitura'},\n",
       " {'nome_orgao': 'SGM', 'tipo_orgao': 'Secretaria'},\n",
       " {'nome_orgao': 'SMIT', 'tipo_orgao': 'Secretaria'},\n",
       " {'nome_orgao': 'SUBSE', 'tipo_orgao': 'Subprefeitura'},\n",
       " {'nome_orgao': 'SUBCL', 'tipo_orgao': 'Subprefeitura'},\n",
       " {'nome_orgao': 'SMSUB', 'tipo_orgao': 'Secretaria'},\n",
       " {'nome_orgao': 'SUBMP', 'tipo_orgao': 'Subprefeitura'},\n",
       " {'nome_orgao': 'SUBST', 'tipo_orgao': 'Subprefeitura'},\n",
       " {'nome_orgao': 'SUBAD', 'tipo_orgao': 'Subprefeitura'},\n",
       " {'nome_orgao': 'SMPED', 'tipo_orgao': 'Secretaria'},\n",
       " {'nome_orgao': 'SPCIN', 'tipo_orgao': 'Administração Indireta'},\n",
       " {'nome_orgao': 'SMDHC', 'tipo_orgao': 'Secretaria'},\n",
       " {'nome_orgao': 'IPREM', 'tipo_orgao': 'Administração Indireta'},\n",
       " {'nome_orgao': 'TMSP', 'tipo_orgao': 'Administração Indireta'},\n",
       " {'nome_orgao': 'SUBBT', 'tipo_orgao': 'Subprefeitura'},\n",
       " {'nome_orgao': 'CET', 'tipo_orgao': 'Administração Indireta'},\n",
       " {'nome_orgao': 'SUBCT', 'tipo_orgao': 'Subprefeitura'},\n",
       " {'nome_orgao': 'SUBFB', 'tipo_orgao': 'Subprefeitura'},\n",
       " {'nome_orgao': 'SUBVP', 'tipo_orgao': 'Subprefeitura'},\n",
       " {'nome_orgao': 'SUBSB', 'tipo_orgao': 'Subprefeitura'},\n",
       " {'nome_orgao': 'SVMA', 'tipo_orgao': 'Secretaria'},\n",
       " {'nome_orgao': 'CGM', 'tipo_orgao': 'Secretaria'},\n",
       " {'nome_orgao': 'SMJ', 'tipo_orgao': 'Secretaria'},\n",
       " {'nome_orgao': 'SMSU', 'tipo_orgao': 'Secretaria'},\n",
       " {'nome_orgao': 'SUBMO', 'tipo_orgao': 'Subprefeitura'},\n",
       " {'nome_orgao': 'SUBMG', 'tipo_orgao': 'Subprefeitura'},\n",
       " {'nome_orgao': 'SUBEM', 'tipo_orgao': 'Subprefeitura'},\n",
       " {'nome_orgao': 'SPTRA', 'tipo_orgao': 'Administração Indireta'},\n",
       " {'nome_orgao': 'SMT', 'tipo_orgao': 'Secretaria'},\n",
       " {'nome_orgao': 'SMS', 'tipo_orgao': 'Secretaria'},\n",
       " {'nome_orgao': 'SUBPI', 'tipo_orgao': 'Subprefeitura'},\n",
       " {'nome_orgao': 'SUBIQ', 'tipo_orgao': 'Subprefeitura'},\n",
       " {'nome_orgao': 'SMC', 'tipo_orgao': 'Secretaria'},\n",
       " {'nome_orgao': 'SFMSP', 'tipo_orgao': 'Administração Indireta'},\n",
       " {'nome_orgao': 'SEME', 'tipo_orgao': 'Secretaria'},\n",
       " {'nome_orgao': 'SPOBR', 'tipo_orgao': 'Administração Indireta'},\n",
       " {'nome_orgao': 'SF', 'tipo_orgao': 'Secretaria'}]"
      ]
     },
     "execution_count": 18,
     "metadata": {},
     "output_type": "execute_result"
    }
   ],
   "source": [
    "questao_1(df, ano = '2019')"
   ]
  },
  {
   "cell_type": "code",
   "execution_count": 19,
   "id": "12d56c62-5302-4418-ba66-d45b4f2a8441",
   "metadata": {},
   "outputs": [
    {
     "name": "stdout",
     "output_type": "stream",
     "text": [
      "Ano 2020 não compreendido na pesquisa\n"
     ]
    }
   ],
   "source": [
    "try:\n",
    "    questao_1(df = df, ano = '2020')\n",
    "except NotImplementedError as e:\n",
    "    print(e)"
   ]
  },
  {
   "cell_type": "markdown",
   "id": "9b1192a2-c127-4e2a-a7c3-655dbbfed71b",
   "metadata": {},
   "source": [
    "#### Questão 2\n",
    "\n",
    ">Passando o órgão como parâmetro opcional e ano como parâmetros obrigatório na chamada, gostaria que saber quantas pessoas trabalharam de forma dedicada à TI na Prefeitura de São Paulo."
   ]
  },
  {
   "cell_type": "code",
   "execution_count": 20,
   "id": "4a852b0d-22b0-46bf-9675-fea0a1c6251a",
   "metadata": {},
   "outputs": [],
   "source": [
    "@solve_ano\n",
    "@solve_orgao\n",
    "@copy_df\n",
    "def questao_2(df, *,  ano, orgao=None):\n",
    "    \n",
    "    if orgao is not None:\n",
    "    \n",
    "        df = df[df['orgao']==orgao].reset_index(drop=True)\n",
    "        \n",
    "    \n",
    "    df = df[df['ano_diagnostico'] == ano].reset_index(drop=True)\n",
    "    \n",
    "    #certificar que a coluna esta com a tipagm correta\n",
    "    df['qtd_equipe'] = df['qtd_equipe'].astype(int)\n",
    "    \n",
    "    \n",
    "    return {'qtd_pessoas_dedicadas_a_ti' : df['qtd_equipe'].sum()}"
   ]
  },
  {
   "cell_type": "code",
   "execution_count": 21,
   "id": "014e5555-9f48-4e6f-922a-841e89576a58",
   "metadata": {},
   "outputs": [
    {
     "data": {
      "text/plain": [
       "{'qtd_pessoas_dedicadas_a_ti': 607}"
      ]
     },
     "execution_count": 21,
     "metadata": {},
     "output_type": "execute_result"
    }
   ],
   "source": [
    "questao_2(df=df, ano=2019)"
   ]
  },
  {
   "cell_type": "code",
   "execution_count": 22,
   "id": "99f59b0d-3f64-4e40-a20b-27f04e58ba43",
   "metadata": {},
   "outputs": [
    {
     "data": {
      "text/plain": [
       "{'qtd_pessoas_dedicadas_a_ti': 5}"
      ]
     },
     "execution_count": 22,
     "metadata": {},
     "output_type": "execute_result"
    }
   ],
   "source": [
    "questao_2(df= df, ano = 2019, orgao = 'SMIT')"
   ]
  },
  {
   "cell_type": "code",
   "execution_count": 23,
   "id": "77ad6ec0-531c-41fd-935e-168883e89dea",
   "metadata": {},
   "outputs": [
    {
     "name": "stdout",
     "output_type": "stream",
     "text": [
      "Ano 2005 não compreendido na pesquisa\n"
     ]
    }
   ],
   "source": [
    "try:\n",
    "    questao_2(df = df, ano = 2005, orgao = 'smit')\n",
    "except NotImplementedError as e:\n",
    "    print(e)"
   ]
  },
  {
   "cell_type": "code",
   "execution_count": 24,
   "id": "6f0ade11-ec30-4d50-8cc5-fe60adc7da90",
   "metadata": {},
   "outputs": [
    {
     "name": "stdout",
     "output_type": "stream",
     "text": [
      "Orgao SEMPLA não compreendido na pesquisa\n"
     ]
    }
   ],
   "source": [
    "try:\n",
    "    questao_2(df = df, ano = 2019, orgao = 'SEMPLA')\n",
    "except NotImplementedError as e:\n",
    "    print(e)"
   ]
  },
  {
   "cell_type": "markdown",
   "id": "1679bb34-fe4d-4a3e-ac27-53628ea8e08c",
   "metadata": {},
   "source": [
    "#### Questão 3\n",
    "\n",
    ">Considerando que todas as pessoas que trabalharam de forma dedicada a TI receberam R$ 12.500,00/mês, gostaria de saber qual a proporção de custo com pessoal de TI por tipo de órgão."
   ]
  },
  {
   "cell_type": "code",
   "execution_count": 25,
   "id": "b0fc38bd-4372-48e9-938c-a0e7070c060c",
   "metadata": {},
   "outputs": [],
   "source": [
    "@copy_df\n",
    "def questao_3(df):\n",
    "    \n",
    "    SALARIO_TI = 12500\n",
    "    df['salario'] = SALARIO_TI\n",
    "    total = df['salario'].sum()\n",
    "    grouped = df.groupby('tipo_orgao')['salario'].sum()/total\n",
    "    \n",
    "    assert grouped.sum()==1\n",
    "    \n",
    "    #renomear os labels para ficar no padrao JSON\n",
    "    grouped = grouped.rename({item : item.lower().replace(' ', '_')\n",
    "                            for item in grouped.index}, axis=0)\n",
    "    \n",
    "    return grouped.to_dict()"
   ]
  },
  {
   "cell_type": "code",
   "execution_count": 26,
   "id": "9339fd6f-b80a-426a-bd55-fadca342cd0f",
   "metadata": {},
   "outputs": [
    {
     "data": {
      "text/plain": [
       "{'administração_indireta': 0.17412935323383086,\n",
       " 'secretaria': 0.3582089552238806,\n",
       " 'subprefeitura': 0.46766169154228854}"
      ]
     },
     "execution_count": 26,
     "metadata": {},
     "output_type": "execute_result"
    }
   ],
   "source": [
    "questao_3(df)"
   ]
  },
  {
   "cell_type": "markdown",
   "id": "3df793d2-2109-46d1-b52a-bc8b25a4ea6e",
   "metadata": {},
   "source": [
    "#### Questao 4\n",
    ">Gostaria de listar a quantidade de desktop próprios e desktop locados, por secretaria."
   ]
  },
  {
   "cell_type": "markdown",
   "id": "d46597fe-8e27-42ce-8229-a426004ca65d",
   "metadata": {},
   "source": [
    "Antes de resolver essa questão, vamos inspecionar o dados.\n",
    "\n",
    "Pois as colunas estão marcadas como texto no banco e não pudemos convertê-las diretamente para float.\n",
    "\n",
    "Na célula a seguir, iteramos pelo dataframe para verificar quais valores estão fora do padrão."
   ]
  },
  {
   "cell_type": "code",
   "execution_count": 27,
   "id": "b0c349e2-1de4-484b-b751-65d3f9cedb84",
   "metadata": {},
   "outputs": [
    {
     "name": "stdout",
     "output_type": "stream",
     "text": [
      "48 desktop_locado val: \n",
      "59 desktop_locado val: \n",
      "74 desktop_locado val: \n",
      "79 desktop_locado val: \n",
      "86 desktop_locado val: \n",
      "94 desktop_locado val: \n",
      "97 desktop_locado val: \n",
      "119 desktop_locado val: \n",
      "125 desktop_locado val: \n",
      "128 desktop_locado val: \n",
      "131 desktop_locado val: \n",
      "135 desktop_locado val: \n",
      "137 desktop_locado val: \n",
      "140 desktop_locado val: \n",
      "142 desktop_locado val: \n",
      "144 desktop_locado val: \n",
      "145 desktop_locado val: \n",
      "154 desktop_locado val: \n",
      "156 desktop_locado val: \n",
      "165 desktop_locado val: \n",
      "189 desktop_locado val: \n",
      "191 desktop_locado val: \n"
     ]
    }
   ],
   "source": [
    "cols = ['desktop_proprio',\n",
    "           'desktop_locado',\n",
    "           'desktop_proprio_antigo']\n",
    "\n",
    "for col in cols:\n",
    "    for i, row in df.iterrows():\n",
    "        try:\n",
    "            float(row[col])\n",
    "        except:\n",
    "            print(i, col, f'val: {row[col]}')"
   ]
  },
  {
   "cell_type": "code",
   "execution_count": 28,
   "id": "bd2e3231-4fa2-44e3-b294-ff3465f1fbd5",
   "metadata": {},
   "outputs": [
    {
     "data": {
      "text/plain": [
       "True"
      ]
     },
     "execution_count": 28,
     "metadata": {},
     "output_type": "execute_result"
    }
   ],
   "source": [
    "df.loc[48, 'desktop_locado'] == ''"
   ]
  },
  {
   "cell_type": "markdown",
   "id": "9f3ce69d-f724-46a2-90b1-213426e1838f",
   "metadata": {},
   "source": [
    "Notamos que o problema está na coluna desktop_locado, que tem alguns valores marcados como strings vazias.\n",
    "\n",
    "Vamos arrumar isso em nossa função."
   ]
  },
  {
   "cell_type": "code",
   "execution_count": 29,
   "id": "2d6c9e45-2504-4597-bce8-9bcde10bbc07",
   "metadata": {},
   "outputs": [],
   "source": [
    "@copy_df\n",
    "def questao_4_todos_anos(df):\n",
    "    \n",
    "    cols = ['desktop_proprio',\n",
    "           'desktop_locado']    \n",
    "    #precisa arrumar a tipagem, esta como text no banco\n",
    "    for col in cols:\n",
    "        df[col] = df[col].apply(lambda x: int(x) if x != '' else 0)\n",
    "            \n",
    "    \n",
    "    grouped = df.groupby('orgao').sum()[['desktop_locado', 'desktop_proprio']]\n",
    "    \n",
    "    \n",
    "    return grouped"
   ]
  },
  {
   "cell_type": "code",
   "execution_count": 30,
   "id": "29968951-9199-47ad-a32d-a4fd526de4aa",
   "metadata": {},
   "outputs": [],
   "source": [
    "resp = questao_4_todos_anos(df)"
   ]
  },
  {
   "cell_type": "code",
   "execution_count": 31,
   "id": "24c7a7cd-02e3-4477-a65f-d6c223665cf2",
   "metadata": {},
   "outputs": [
    {
     "data": {
      "text/html": [
       "<div>\n",
       "<style scoped>\n",
       "    .dataframe tbody tr th:only-of-type {\n",
       "        vertical-align: middle;\n",
       "    }\n",
       "\n",
       "    .dataframe tbody tr th {\n",
       "        vertical-align: top;\n",
       "    }\n",
       "\n",
       "    .dataframe thead th {\n",
       "        text-align: right;\n",
       "    }\n",
       "</style>\n",
       "<table border=\"1\" class=\"dataframe\">\n",
       "  <thead>\n",
       "    <tr style=\"text-align: right;\">\n",
       "      <th></th>\n",
       "      <th>desktop_locado</th>\n",
       "      <th>desktop_proprio</th>\n",
       "    </tr>\n",
       "    <tr>\n",
       "      <th>orgao</th>\n",
       "      <th></th>\n",
       "      <th></th>\n",
       "    </tr>\n",
       "  </thead>\n",
       "  <tbody>\n",
       "    <tr>\n",
       "      <th>SUBIQ</th>\n",
       "      <td>508</td>\n",
       "      <td>15</td>\n",
       "    </tr>\n",
       "  </tbody>\n",
       "</table>\n",
       "</div>"
      ],
      "text/plain": [
       "       desktop_locado  desktop_proprio\n",
       "orgao                                 \n",
       "SUBIQ             508               15"
      ]
     },
     "execution_count": 31,
     "metadata": {},
     "output_type": "execute_result"
    }
   ],
   "source": [
    "resp[resp['desktop_locado']==resp['desktop_locado'].max()]"
   ]
  },
  {
   "cell_type": "code",
   "execution_count": 32,
   "id": "923cec00-64c3-4af9-8086-e2d291909fd1",
   "metadata": {},
   "outputs": [
    {
     "data": {
      "text/html": [
       "<div>\n",
       "<style scoped>\n",
       "    .dataframe tbody tr th:only-of-type {\n",
       "        vertical-align: middle;\n",
       "    }\n",
       "\n",
       "    .dataframe tbody tr th {\n",
       "        vertical-align: top;\n",
       "    }\n",
       "\n",
       "    .dataframe thead th {\n",
       "        text-align: right;\n",
       "    }\n",
       "</style>\n",
       "<table border=\"1\" class=\"dataframe\">\n",
       "  <thead>\n",
       "    <tr style=\"text-align: right;\">\n",
       "      <th></th>\n",
       "      <th>desktop_locado</th>\n",
       "      <th>desktop_proprio</th>\n",
       "    </tr>\n",
       "    <tr>\n",
       "      <th>orgao</th>\n",
       "      <th></th>\n",
       "      <th></th>\n",
       "    </tr>\n",
       "  </thead>\n",
       "  <tbody>\n",
       "    <tr>\n",
       "      <th>SME</th>\n",
       "      <td>0</td>\n",
       "      <td>81390</td>\n",
       "    </tr>\n",
       "  </tbody>\n",
       "</table>\n",
       "</div>"
      ],
      "text/plain": [
       "       desktop_locado  desktop_proprio\n",
       "orgao                                 \n",
       "SME                 0            81390"
      ]
     },
     "execution_count": 32,
     "metadata": {},
     "output_type": "execute_result"
    }
   ],
   "source": [
    "resp[resp['desktop_proprio']==resp['desktop_proprio'].max()]"
   ]
  },
  {
   "cell_type": "markdown",
   "id": "672e56a3-9009-41c8-b714-d7c2181df97f",
   "metadata": {},
   "source": [
    "No entanto, pensando bem, não faz sentido somar a quantidade de desktops para as respostas de todos os anos. O correto é verificar a quantidade de desktops de uma dada secretaria para um dado ano.\n",
    "\n",
    "É isso que implementamos abaixo, usando como padrão o ano mais recente da pesquisa."
   ]
  },
  {
   "cell_type": "code",
   "execution_count": 33,
   "id": "8f5db530-1b13-4566-bdaf-689b2d4d10fa",
   "metadata": {},
   "outputs": [],
   "source": [
    "@copy_df\n",
    "def questao_4(df):\n",
    "    \n",
    "    \n",
    "    cols = ['desktop_proprio',\n",
    "           'desktop_locado']    \n",
    "    #precisa arrumar a tipagem, esta como text no banco\n",
    "    for col in cols:\n",
    "        df[col] = df[col].apply(lambda x: int(x) if x != '' else 0)\n",
    "    \n",
    "    ano = df['ano_diagnostico'].max()\n",
    "    df = df[df['ano_diagnostico']==ano]\n",
    "    \n",
    "    grouped = df.groupby('orgao').sum()[['desktop_locado', 'desktop_proprio']]\n",
    "    \n",
    "    result = grouped.reset_index()\n",
    "    \n",
    "    return result.to_dict(orient='records')"
   ]
  },
  {
   "cell_type": "code",
   "execution_count": 34,
   "id": "03c604e5-bf6f-4e86-8e90-26f489374674",
   "metadata": {},
   "outputs": [
    {
     "data": {
      "text/plain": [
       "[{'orgao': 'AHM', 'desktop_locado': 0, 'desktop_proprio': 2400},\n",
       " {'orgao': 'AMLU', 'desktop_locado': 0, 'desktop_proprio': 189},\n",
       " {'orgao': 'CET', 'desktop_locado': 0, 'desktop_proprio': 2359},\n",
       " {'orgao': 'CGM', 'desktop_locado': 0, 'desktop_proprio': 172},\n",
       " {'orgao': 'COHAB', 'desktop_locado': 0, 'desktop_proprio': 460},\n",
       " {'orgao': 'FT', 'desktop_locado': 0, 'desktop_proprio': 100},\n",
       " {'orgao': 'HSPM', 'desktop_locado': 0, 'desktop_proprio': 572},\n",
       " {'orgao': 'IPREM', 'desktop_locado': 0, 'desktop_proprio': 200},\n",
       " {'orgao': 'PGM', 'desktop_locado': 0, 'desktop_proprio': 1150},\n",
       " {'orgao': 'SEHAB', 'desktop_locado': 0, 'desktop_proprio': 228},\n",
       " {'orgao': 'SEME', 'desktop_locado': 0, 'desktop_proprio': 583},\n",
       " {'orgao': 'SF', 'desktop_locado': 0, 'desktop_proprio': 1217},\n",
       " {'orgao': 'SFMSP', 'desktop_locado': 0, 'desktop_proprio': 450},\n",
       " {'orgao': 'SG', 'desktop_locado': 0, 'desktop_proprio': 822},\n",
       " {'orgao': 'SGM', 'desktop_locado': 75, 'desktop_proprio': 600},\n",
       " {'orgao': 'SIURB', 'desktop_locado': 0, 'desktop_proprio': 464},\n",
       " {'orgao': 'SMADS', 'desktop_locado': 0, 'desktop_proprio': 1700},\n",
       " {'orgao': 'SMC', 'desktop_locado': 0, 'desktop_proprio': 1200},\n",
       " {'orgao': 'SMDE', 'desktop_locado': 0, 'desktop_proprio': 258},\n",
       " {'orgao': 'SMDHC', 'desktop_locado': 0, 'desktop_proprio': 314},\n",
       " {'orgao': 'SME', 'desktop_locado': 0, 'desktop_proprio': 13690},\n",
       " {'orgao': 'SMIT', 'desktop_locado': 0, 'desktop_proprio': 225},\n",
       " {'orgao': 'SMJ', 'desktop_locado': 0, 'desktop_proprio': 22},\n",
       " {'orgao': 'SMPED', 'desktop_locado': 0, 'desktop_proprio': 80},\n",
       " {'orgao': 'SMS', 'desktop_locado': 0, 'desktop_proprio': 12500},\n",
       " {'orgao': 'SMSU', 'desktop_locado': 0, 'desktop_proprio': 1890},\n",
       " {'orgao': 'SMSUB', 'desktop_locado': 0, 'desktop_proprio': 386},\n",
       " {'orgao': 'SMT', 'desktop_locado': 0, 'desktop_proprio': 550},\n",
       " {'orgao': 'SMUL', 'desktop_locado': 0, 'desktop_proprio': 851},\n",
       " {'orgao': 'SPCIN', 'desktop_locado': 0, 'desktop_proprio': 40},\n",
       " {'orgao': 'SPOBR', 'desktop_locado': 0, 'desktop_proprio': 200},\n",
       " {'orgao': 'SPPAR', 'desktop_locado': 36, 'desktop_proprio': 4},\n",
       " {'orgao': 'SPTRA', 'desktop_locado': 0, 'desktop_proprio': 1522},\n",
       " {'orgao': 'SPTUR', 'desktop_locado': 0, 'desktop_proprio': 375},\n",
       " {'orgao': 'SPURB', 'desktop_locado': 0, 'desktop_proprio': 171},\n",
       " {'orgao': 'SUBAD', 'desktop_locado': 0, 'desktop_proprio': 150},\n",
       " {'orgao': 'SUBAF', 'desktop_locado': 0, 'desktop_proprio': 153},\n",
       " {'orgao': 'SUBBT', 'desktop_locado': 0, 'desktop_proprio': 138},\n",
       " {'orgao': 'SUBCL', 'desktop_locado': 0, 'desktop_proprio': 120},\n",
       " {'orgao': 'SUBCS', 'desktop_locado': 0, 'desktop_proprio': 131},\n",
       " {'orgao': 'SUBCT', 'desktop_locado': 87, 'desktop_proprio': 58},\n",
       " {'orgao': 'SUBCV', 'desktop_locado': 0, 'desktop_proprio': 115},\n",
       " {'orgao': 'SUBEM', 'desktop_locado': 66, 'desktop_proprio': 20},\n",
       " {'orgao': 'SUBFB', 'desktop_locado': 0, 'desktop_proprio': 117},\n",
       " {'orgao': 'SUBG', 'desktop_locado': 120, 'desktop_proprio': 43},\n",
       " {'orgao': 'SUBIP', 'desktop_locado': 160, 'desktop_proprio': 20},\n",
       " {'orgao': 'SUBIQ', 'desktop_locado': 164, 'desktop_proprio': 5},\n",
       " {'orgao': 'SUBIT', 'desktop_locado': 0, 'desktop_proprio': 151},\n",
       " {'orgao': 'SUBJA', 'desktop_locado': 60, 'desktop_proprio': 95},\n",
       " {'orgao': 'SUBJT', 'desktop_locado': 0, 'desktop_proprio': 120},\n",
       " {'orgao': 'SUBLA', 'desktop_locado': 0, 'desktop_proprio': 135},\n",
       " {'orgao': 'SUBMB', 'desktop_locado': 0, 'desktop_proprio': 138},\n",
       " {'orgao': 'SUBMG', 'desktop_locado': 0, 'desktop_proprio': 180},\n",
       " {'orgao': 'SUBMO', 'desktop_locado': 0, 'desktop_proprio': 178},\n",
       " {'orgao': 'SUBMP', 'desktop_locado': 0, 'desktop_proprio': 145},\n",
       " {'orgao': 'SUBPA', 'desktop_locado': 40, 'desktop_proprio': 50},\n",
       " {'orgao': 'SUBPE', 'desktop_locado': 0, 'desktop_proprio': 195},\n",
       " {'orgao': 'SUBPI', 'desktop_locado': 80, 'desktop_proprio': 80},\n",
       " {'orgao': 'SUBPJ', 'desktop_locado': 62, 'desktop_proprio': 66},\n",
       " {'orgao': 'SUBPR', 'desktop_locado': 0, 'desktop_proprio': 160},\n",
       " {'orgao': 'SUBSA', 'desktop_locado': 90, 'desktop_proprio': 36},\n",
       " {'orgao': 'SUBSB', 'desktop_locado': 0, 'desktop_proprio': 135},\n",
       " {'orgao': 'SUBSE', 'desktop_locado': 80, 'desktop_proprio': 140},\n",
       " {'orgao': 'SUBSM', 'desktop_locado': 0, 'desktop_proprio': 160},\n",
       " {'orgao': 'SUBST', 'desktop_locado': 0, 'desktop_proprio': 150},\n",
       " {'orgao': 'SUBVM', 'desktop_locado': 0, 'desktop_proprio': 154},\n",
       " {'orgao': 'SUBVP', 'desktop_locado': 120, 'desktop_proprio': 0},\n",
       " {'orgao': 'SVMA', 'desktop_locado': 0, 'desktop_proprio': 850},\n",
       " {'orgao': 'TMSP', 'desktop_locado': 0, 'desktop_proprio': 80}]"
      ]
     },
     "execution_count": 34,
     "metadata": {},
     "output_type": "execute_result"
    }
   ],
   "source": [
    "questao_4(df)"
   ]
  },
  {
   "cell_type": "markdown",
   "id": "242eeb9e-7e9d-4bb4-b392-735c8e513d5c",
   "metadata": {},
   "source": [
    "### Questão 5\n",
    ">Criar uma tabela cópia da tabela respostas_diagnostico apenas com os formulários que foram devidamente concluídos e aceitos. Incluir uma coluna do tipo datetime para gravar a data de última atualização de cada registro."
   ]
  },
  {
   "cell_type": "markdown",
   "id": "fa99b63c-ffe1-4e59-ad43-32aecc685052",
   "metadata": {},
   "source": [
    "O primeiro requisito nós já atendemos inicialmente, quando, na função get_data filtramos os dados para obter apenas os formularios submetidos.\n",
    "\n",
    "Assim, vamos nos valer de nosso dataframe, apenas acrescentando a eles uma coluna de datetime com a data e hora de hoje/agora.\n",
    "\n",
    "Em seguida, vamos usar a função nativa do pandas para copiar os dados em uma nova tabela de nossa base sqlite3.\n",
    "\n"
   ]
  },
  {
   "cell_type": "code",
   "execution_count": 35,
   "id": "73c8c9d4-c856-4ea7-ab03-8efd474d0ce2",
   "metadata": {},
   "outputs": [],
   "source": [
    "df['dtime_atualizacao'] = datetime.now()"
   ]
  },
  {
   "cell_type": "code",
   "execution_count": 36,
   "id": "6aa256de-ceba-4d96-8a03-c8f53a7d0c09",
   "metadata": {},
   "outputs": [
    {
     "data": {
      "text/plain": [
       "id_resposta                        int64\n",
       "ano_diagnostico                    int64\n",
       "data_submissao                    object\n",
       "orgao                             object\n",
       "tipo_orgao                        object\n",
       "qtd_equipe                         int64\n",
       "utiliza_metodologia              float64\n",
       "desktop_proprio                   object\n",
       "desktop_locado                    object\n",
       "desktop_proprio_antigo            object\n",
       "dtime_atualizacao         datetime64[ns]\n",
       "dtype: object"
      ]
     },
     "execution_count": 36,
     "metadata": {},
     "output_type": "execute_result"
    }
   ],
   "source": [
    "#certificando que a tipagem está correta\n",
    "df.dtypes"
   ]
  },
  {
   "cell_type": "code",
   "execution_count": 37,
   "id": "aa7f8ead-f071-4e7a-8401-2d1037bf3516",
   "metadata": {},
   "outputs": [],
   "source": [
    "con = sqlite3.connect(path_dados)"
   ]
  },
  {
   "cell_type": "code",
   "execution_count": 38,
   "id": "3c183d20-f647-4e9f-a3fc-b9e58c598c59",
   "metadata": {},
   "outputs": [],
   "source": [
    "df.to_sql('tbl_q_5', con,  if_exists='replace')"
   ]
  },
  {
   "cell_type": "code",
   "execution_count": 39,
   "id": "80bd04c9-7dc4-4d22-aaa5-e79716e1fd42",
   "metadata": {},
   "outputs": [],
   "source": [
    "con.commit()"
   ]
  },
  {
   "cell_type": "code",
   "execution_count": 40,
   "id": "cafa4400-7a9b-4b91-9dc8-1e5945b4ef29",
   "metadata": {},
   "outputs": [],
   "source": [
    "df_novo = pd.read_sql('SELECT * FROM tbl_q_5', con)"
   ]
  },
  {
   "cell_type": "code",
   "execution_count": 41,
   "id": "76d86e6a-baa8-4abe-86a1-36f78a8ed6b2",
   "metadata": {},
   "outputs": [
    {
     "data": {
      "text/html": [
       "<div>\n",
       "<style scoped>\n",
       "    .dataframe tbody tr th:only-of-type {\n",
       "        vertical-align: middle;\n",
       "    }\n",
       "\n",
       "    .dataframe tbody tr th {\n",
       "        vertical-align: top;\n",
       "    }\n",
       "\n",
       "    .dataframe thead th {\n",
       "        text-align: right;\n",
       "    }\n",
       "</style>\n",
       "<table border=\"1\" class=\"dataframe\">\n",
       "  <thead>\n",
       "    <tr style=\"text-align: right;\">\n",
       "      <th></th>\n",
       "      <th>index</th>\n",
       "      <th>id_resposta</th>\n",
       "      <th>ano_diagnostico</th>\n",
       "      <th>data_submissao</th>\n",
       "      <th>orgao</th>\n",
       "      <th>tipo_orgao</th>\n",
       "      <th>qtd_equipe</th>\n",
       "      <th>utiliza_metodologia</th>\n",
       "      <th>desktop_proprio</th>\n",
       "      <th>desktop_locado</th>\n",
       "      <th>desktop_proprio_antigo</th>\n",
       "      <th>dtime_atualizacao</th>\n",
       "    </tr>\n",
       "  </thead>\n",
       "  <tbody>\n",
       "    <tr>\n",
       "      <th>195</th>\n",
       "      <td>195</td>\n",
       "      <td>308</td>\n",
       "      <td>2017</td>\n",
       "      <td>2017-09-11 12:49:02</td>\n",
       "      <td>SUBIT</td>\n",
       "      <td>Subprefeitura</td>\n",
       "      <td>2</td>\n",
       "      <td>0.0</td>\n",
       "      <td>150</td>\n",
       "      <td>00</td>\n",
       "      <td>140</td>\n",
       "      <td>2022-04-01 23:08:30.271506</td>\n",
       "    </tr>\n",
       "    <tr>\n",
       "      <th>97</th>\n",
       "      <td>97</td>\n",
       "      <td>68</td>\n",
       "      <td>2018</td>\n",
       "      <td>2018-03-20 19:15:13</td>\n",
       "      <td>SUBVM</td>\n",
       "      <td>Subprefeitura</td>\n",
       "      <td>2</td>\n",
       "      <td>NaN</td>\n",
       "      <td>150</td>\n",
       "      <td></td>\n",
       "      <td>105.0000000000</td>\n",
       "      <td>2022-04-01 23:08:30.271506</td>\n",
       "    </tr>\n",
       "    <tr>\n",
       "      <th>116</th>\n",
       "      <td>116</td>\n",
       "      <td>80</td>\n",
       "      <td>2019</td>\n",
       "      <td>2019-04-11 09:37:41</td>\n",
       "      <td>SGM</td>\n",
       "      <td>Secretaria</td>\n",
       "      <td>8</td>\n",
       "      <td>NaN</td>\n",
       "      <td>600</td>\n",
       "      <td>75</td>\n",
       "      <td>250.0000000000</td>\n",
       "      <td>2022-04-01 23:08:30.271506</td>\n",
       "    </tr>\n",
       "    <tr>\n",
       "      <th>128</th>\n",
       "      <td>128</td>\n",
       "      <td>90</td>\n",
       "      <td>2018</td>\n",
       "      <td>2018-03-26 12:33:05</td>\n",
       "      <td>SUBMB</td>\n",
       "      <td>Subprefeitura</td>\n",
       "      <td>3</td>\n",
       "      <td>NaN</td>\n",
       "      <td>135</td>\n",
       "      <td></td>\n",
       "      <td>40.0000000000</td>\n",
       "      <td>2022-04-01 23:08:30.271506</td>\n",
       "    </tr>\n",
       "    <tr>\n",
       "      <th>7</th>\n",
       "      <td>7</td>\n",
       "      <td>13</td>\n",
       "      <td>2019</td>\n",
       "      <td>2019-03-12 17:04:46</td>\n",
       "      <td>SUBLA</td>\n",
       "      <td>Subprefeitura</td>\n",
       "      <td>2</td>\n",
       "      <td>NaN</td>\n",
       "      <td>135</td>\n",
       "      <td>0</td>\n",
       "      <td>109.0000000000</td>\n",
       "      <td>2022-04-01 23:08:30.271506</td>\n",
       "    </tr>\n",
       "  </tbody>\n",
       "</table>\n",
       "</div>"
      ],
      "text/plain": [
       "     index  id_resposta  ano_diagnostico       data_submissao  orgao  \\\n",
       "195    195          308             2017  2017-09-11 12:49:02  SUBIT   \n",
       "97      97           68             2018  2018-03-20 19:15:13  SUBVM   \n",
       "116    116           80             2019  2019-04-11 09:37:41    SGM   \n",
       "128    128           90             2018  2018-03-26 12:33:05  SUBMB   \n",
       "7        7           13             2019  2019-03-12 17:04:46  SUBLA   \n",
       "\n",
       "        tipo_orgao  qtd_equipe  utiliza_metodologia desktop_proprio  \\\n",
       "195  Subprefeitura           2                  0.0             150   \n",
       "97   Subprefeitura           2                  NaN             150   \n",
       "116     Secretaria           8                  NaN             600   \n",
       "128  Subprefeitura           3                  NaN             135   \n",
       "7    Subprefeitura           2                  NaN             135   \n",
       "\n",
       "    desktop_locado desktop_proprio_antigo           dtime_atualizacao  \n",
       "195             00                    140  2022-04-01 23:08:30.271506  \n",
       "97                         105.0000000000  2022-04-01 23:08:30.271506  \n",
       "116             75         250.0000000000  2022-04-01 23:08:30.271506  \n",
       "128                         40.0000000000  2022-04-01 23:08:30.271506  \n",
       "7                0         109.0000000000  2022-04-01 23:08:30.271506  "
      ]
     },
     "execution_count": 41,
     "metadata": {},
     "output_type": "execute_result"
    }
   ],
   "source": [
    "df_novo.sample(5)"
   ]
  },
  {
   "cell_type": "code",
   "execution_count": 42,
   "id": "c1516ca6-4156-4644-bc51-f7233ea5f876",
   "metadata": {},
   "outputs": [
    {
     "data": {
      "text/plain": [
       "index                       int64\n",
       "id_resposta                 int64\n",
       "ano_diagnostico             int64\n",
       "data_submissao             object\n",
       "orgao                      object\n",
       "tipo_orgao                 object\n",
       "qtd_equipe                  int64\n",
       "utiliza_metodologia       float64\n",
       "desktop_proprio            object\n",
       "desktop_locado             object\n",
       "desktop_proprio_antigo     object\n",
       "dtime_atualizacao          object\n",
       "dtype: object"
      ]
     },
     "execution_count": 42,
     "metadata": {},
     "output_type": "execute_result"
    }
   ],
   "source": [
    "#ele é incapaz de parsear automaticamente o datetime\n",
    "#porque o sqlite3 nao suporta esse tipo de dados\n",
    "df_novo.dtypes"
   ]
  },
  {
   "cell_type": "code",
   "execution_count": 43,
   "id": "af659ceb-7f7f-4524-bcb3-e86e6ecbc809",
   "metadata": {},
   "outputs": [],
   "source": [
    "con.close()"
   ]
  },
  {
   "cell_type": "markdown",
   "id": "4352ca1e-50c8-403e-950b-28387107ba7c",
   "metadata": {},
   "source": [
    "#### Questão 6\n",
    ">Criar um único endpoint para atualização das seguintes informações na tabela criada no item 5: Quantidade de pessoas que trabalham de forma dedicada, utilização de metodologia para gerenciamento de projetos, desktops próprios, locados e antigos."
   ]
  },
  {
   "cell_type": "markdown",
   "id": "63f08d3a-ae69-46b1-8786-4ec66265ecdd",
   "metadata": {},
   "source": [
    "Essa questão só pode ser resolvida na implementação da API."
   ]
  },
  {
   "cell_type": "markdown",
   "id": "7a439c04-3664-4fc8-a986-b0c88bb79eb9",
   "metadata": {},
   "source": [
    "#### Questão 7\n",
    ">Questão teórica: Considerando que os dados sobre quantidade de pessoas que trabalham dedicadas à Tecnologia da Informação no ano de 2019 apresenta a seguinte distribuição no ano de 2019, complete a frase que aparece abaixo dos histogramas:\n",
    "\n",
    ">OBS: Os intervalos do histograma são fechados à esquerda (ex: 0 até 1,999...; 2 até 3,999...; etc.)\n",
    "        \n",
    ">a) \"De acordo com o Diagnóstico de 2019, metade dos órgãos setoriais da prefeitura possui, no máximo, ___ pessoas trabalhando de forma dedicada à área de TI\"."
   ]
  },
  {
   "cell_type": "code",
   "execution_count": 44,
   "id": "3cd44c6d-961d-43b0-a976-760d7aa6314d",
   "metadata": {},
   "outputs": [
    {
     "data": {
      "image/png": "[encoded data removed]",
      "text/plain": [
       "<IPython.core.display.Image object>"
      ]
     },
     "execution_count": 44,
     "metadata": {},
     "output_type": "execute_result"
    }
   ],
   "source": [
    "from IPython.display import Image\n",
    "path_grafico = os.path.join('original_data', 'grafico_q7.png')\n",
    "Image(filename=path_grafico) "
   ]
  },
  {
   "cell_type": "markdown",
   "id": "bbcdb9c5-21f6-4b5a-aa50-a20d67f98c81",
   "metadata": {},
   "source": [
    "Primeiro vamos ver se conseguimos reproduzir o gráfico acima com os dados"
   ]
  },
  {
   "cell_type": "code",
   "execution_count": 45,
   "id": "84317004-f98a-491f-bb74-12778c7cf8c8",
   "metadata": {},
   "outputs": [],
   "source": [
    "df_2019 = df[df['ano_diagnostico']==2019].copy()"
   ]
  },
  {
   "cell_type": "code",
   "execution_count": 46,
   "id": "fadb7d82-1c77-4a95-b6ae-0293e565061b",
   "metadata": {},
   "outputs": [
    {
     "data": {
      "image/png": "[encoded data removed]",
      "text/plain": [
       "<Figure size 720x360 with 1 Axes>"
      ]
     },
     "metadata": {
      "needs_background": "light"
     },
     "output_type": "display_data"
    }
   ],
   "source": [
    "por_orgao = df_2019.groupby('orgao')['qtd_equipe'].sum()\n",
    "\n",
    "ax = por_orgao.plot.hist(figsize=(10,5), bins=30,\n",
    "                    title='Distribuição de pessoas dedicadas a TI por órgão em 2019')\n",
    "plt.xticks(ticks=range(0,61,2))\n",
    "plt.show()"
   ]
  },
  {
   "cell_type": "code",
   "execution_count": 47,
   "id": "3e38c8a7-77ce-4782-bd62-57d832cb6e91",
   "metadata": {},
   "outputs": [],
   "source": [
    "texto_questao = 'a) \"De acordo com o Diagnóstico de 2019, metade dos órgãos setoriais da prefeitura possui, no máximo, {resp} pessoas trabalhando de forma dedicada à área de TI\".'"
   ]
  },
  {
   "cell_type": "code",
   "execution_count": 48,
   "id": "16f661f4-e7a0-48de-affa-315f70b62586",
   "metadata": {},
   "outputs": [],
   "source": [
    "mediana = por_orgao.median()"
   ]
  },
  {
   "cell_type": "code",
   "execution_count": 49,
   "id": "c87d34f7-b2ca-4926-aeaa-17609979f5ac",
   "metadata": {},
   "outputs": [
    {
     "data": {
      "text/plain": [
       "4.0"
      ]
     },
     "execution_count": 49,
     "metadata": {},
     "output_type": "execute_result"
    }
   ],
   "source": [
    "mediana"
   ]
  },
  {
   "cell_type": "code",
   "execution_count": 50,
   "id": "ca2e16c6-7901-4a8c-9bb7-0685335bf3e9",
   "metadata": {},
   "outputs": [
    {
     "data": {
      "text/plain": [
       "0.42028985507246375"
      ]
     },
     "execution_count": 50,
     "metadata": {},
     "output_type": "execute_result"
    }
   ],
   "source": [
    "len(por_orgao[por_orgao<4])/len(por_orgao)"
   ]
  },
  {
   "cell_type": "code",
   "execution_count": 51,
   "id": "e451491b-cc57-4616-beed-16fd55955b80",
   "metadata": {},
   "outputs": [
    {
     "data": {
      "text/plain": [
       "0.5652173913043478"
      ]
     },
     "execution_count": 51,
     "metadata": {},
     "output_type": "execute_result"
    }
   ],
   "source": [
    "len(por_orgao[por_orgao<=4])/len(por_orgao)"
   ]
  },
  {
   "cell_type": "code",
   "execution_count": 52,
   "id": "aed9d6bc-8d37-4101-8aef-9ca7bc2351ff",
   "metadata": {},
   "outputs": [
    {
     "data": {
      "text/plain": [
       "'a) \"De acordo com o Diagnóstico de 2019, metade dos órgãos setoriais da prefeitura possui, no máximo, 4.0 pessoas trabalhando de forma dedicada à área de TI\".'"
      ]
     },
     "execution_count": 52,
     "metadata": {},
     "output_type": "execute_result"
    }
   ],
   "source": [
    "texto_questao.format(resp=mediana)"
   ]
  }
 ],
 "metadata": {
  "kernelspec": {
   "display_name": "Python 3",
   "language": "python",
   "name": "python3"
  },
  "language_info": {
   "codemirror_mode": {
    "name": "ipython",
    "version": 3
   },
   "file_extension": ".py",
   "mimetype": "text/x-python",
   "name": "python",
   "nbconvert_exporter": "python",
   "pygments_lexer": "ipython3",
   "version": "3.8.8"
  }
 },
 "nbformat": 4,
 "nbformat_minor": 5
}
