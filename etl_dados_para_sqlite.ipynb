{
 "cells": [
  {
   "cell_type": "code",
   "execution_count": 1,
   "id": "996b30d9-e07e-4405-a433-94980f25e4cb",
   "metadata": {},
   "outputs": [],
   "source": [
    "import pandas as pd\n",
    "import sqlite3\n",
    "import os"
   ]
  },
  {
   "cell_type": "markdown",
   "id": "3831c28d-9769-41c0-9531-7006f72b1aa4",
   "metadata": {},
   "source": [
    "# Parseando DB Dump\n",
    "\n",
    "Esse notebook tem por objetivo realizar o ETL dos dados fornecidos para o desafio.\n",
    "\n",
    "Os dados foram fornecidos como um database dump de uma base de dados Maria DB.\n",
    "\n",
    "Nosso objetivo é criar um banco de dados sqlite e estruturá-lo no mesmo schema da base original MariaDB.\n",
    "\n",
    "Em seguida, devemos carregar os dados do dump para a base de dados sqlite criada.\n",
    "\n",
    "Como o sqlite e a MariaDB implementam idiomas SQL distintos, além do fato do conjunto de operações/funcionalidades disponível para o sqlite ser menor do que par ao MariaDB, alguns ajustes no dump serão necessários."
   ]
  },
  {
   "cell_type": "markdown",
   "id": "4bb340cf-0a07-4364-a71a-68d146159f12",
   "metadata": {},
   "source": [
    "#### Gerenciando diretórios\n",
    "\n",
    "Nas células abaixo, fazemos o gerenciamento dos diretórios e paths de arquivo utilizados neste script."
   ]
  },
  {
   "cell_type": "code",
   "execution_count": 2,
   "id": "80cd298a-8a80-4536-b6c8-962db3b9d97f",
   "metadata": {},
   "outputs": [],
   "source": [
    "base_path = os.path.abspath(os.getcwd())\n",
    "original_data_path = os.path.join(base_path, 'original_data')"
   ]
  },
  {
   "cell_type": "code",
   "execution_count": 3,
   "id": "5b9ea6a5-30ca-4e0a-ac98-2d3629b63a44",
   "metadata": {},
   "outputs": [
    {
     "data": {
      "text/plain": [
       "['Desafio para o processo seletivo.docx',\n",
       " 'respostas_diagnostico.sql',\n",
       " 'respostas_diagnostico_dicionario.xlsx',\n",
       " '~$safio para o processo seletivo.docx']"
      ]
     },
     "execution_count": 3,
     "metadata": {},
     "output_type": "execute_result"
    }
   ],
   "source": [
    "os.listdir(original_data_path)"
   ]
  },
  {
   "cell_type": "code",
   "execution_count": 4,
   "id": "edd41144-af21-4ddb-90ad-cdee4e736209",
   "metadata": {},
   "outputs": [],
   "source": [
    "data_path = os.path.join(base_path, 'data')\n",
    "\n",
    "if not os.path.exists(data_path):\n",
    "    os.mkdir(data_path)"
   ]
  },
  {
   "cell_type": "code",
   "execution_count": 5,
   "id": "b2e862fb-2ba0-4dce-9e0c-c85ee309d5ad",
   "metadata": {},
   "outputs": [],
   "source": [
    "db_path = os.path.join(data_path, 'desafio_selecao.db')"
   ]
  },
  {
   "cell_type": "markdown",
   "id": "2b536aff-6a9e-43ea-9404-3ae7063b16f6",
   "metadata": {},
   "source": [
    "#### Inspecionando os dados\n",
    "\n",
    "Nas células abaixo inspecionamos o dicionário de dados e o dump de sql.\n",
    "\n"
   ]
  },
  {
   "cell_type": "code",
   "execution_count": 6,
   "id": "f299ea09-c8bd-485e-aaa1-8af281ad9a96",
   "metadata": {},
   "outputs": [],
   "source": [
    "dicionario = pd.read_excel(os.path.join(\n",
    "                            original_data_path, 'respostas_diagnostico_dicionario.xlsx'),\n",
    "                          header=1)"
   ]
  },
  {
   "cell_type": "code",
   "execution_count": 7,
   "id": "ff6663f6-e773-4144-8d50-8a56dcae91b8",
   "metadata": {},
   "outputs": [
    {
     "data": {
      "text/html": [
       "<div>\n",
       "<style scoped>\n",
       "    .dataframe tbody tr th:only-of-type {\n",
       "        vertical-align: middle;\n",
       "    }\n",
       "\n",
       "    .dataframe tbody tr th {\n",
       "        vertical-align: top;\n",
       "    }\n",
       "\n",
       "    .dataframe thead th {\n",
       "        text-align: right;\n",
       "    }\n",
       "</style>\n",
       "<table border=\"1\" class=\"dataframe\">\n",
       "  <thead>\n",
       "    <tr style=\"text-align: right;\">\n",
       "      <th></th>\n",
       "      <th>nome do campo</th>\n",
       "      <th>tipo</th>\n",
       "      <th>aceita nulos?</th>\n",
       "      <th>descrição</th>\n",
       "    </tr>\n",
       "  </thead>\n",
       "  <tbody>\n",
       "    <tr>\n",
       "      <th>0</th>\n",
       "      <td>id_resposta</td>\n",
       "      <td>INT(11)</td>\n",
       "      <td>NÃO</td>\n",
       "      <td>Chave única para cada resposta do formulário</td>\n",
       "    </tr>\n",
       "    <tr>\n",
       "      <th>1</th>\n",
       "      <td>ano_diagnostico</td>\n",
       "      <td>INT(11)</td>\n",
       "      <td>NÃO</td>\n",
       "      <td>Ano de realização da pesquisa</td>\n",
       "    </tr>\n",
       "    <tr>\n",
       "      <th>2</th>\n",
       "      <td>data_submissao</td>\n",
       "      <td>DATETIME</td>\n",
       "      <td>SIM</td>\n",
       "      <td>Data de envio da resposta</td>\n",
       "    </tr>\n",
       "    <tr>\n",
       "      <th>3</th>\n",
       "      <td>orgao</td>\n",
       "      <td>TEXT</td>\n",
       "      <td>SIM</td>\n",
       "      <td>Selecione o Órgão onde trabalha:</td>\n",
       "    </tr>\n",
       "    <tr>\n",
       "      <th>4</th>\n",
       "      <td>tipo_orgao</td>\n",
       "      <td>TEXT</td>\n",
       "      <td>SIM</td>\n",
       "      <td>Classificação quanto ao tipo de órgão (Pode se...</td>\n",
       "    </tr>\n",
       "    <tr>\n",
       "      <th>5</th>\n",
       "      <td>qtd_equipe</td>\n",
       "      <td>DECIMAL(10,0)</td>\n",
       "      <td>SIM</td>\n",
       "      <td>Quantas pessoas trabalham de forma dedicada à ...</td>\n",
       "    </tr>\n",
       "    <tr>\n",
       "      <th>6</th>\n",
       "      <td>utiliza_metodologia</td>\n",
       "      <td>INT(1)</td>\n",
       "      <td>SIM</td>\n",
       "      <td>É utilizada alguma metodologia de gerenciament...</td>\n",
       "    </tr>\n",
       "    <tr>\n",
       "      <th>7</th>\n",
       "      <td>desktop_proprio</td>\n",
       "      <td>TEXT</td>\n",
       "      <td>SIM</td>\n",
       "      <td>Preencha os ítens abaixo de acordo com os quan...</td>\n",
       "    </tr>\n",
       "    <tr>\n",
       "      <th>8</th>\n",
       "      <td>desktop_locado</td>\n",
       "      <td>TEXT</td>\n",
       "      <td>SIM</td>\n",
       "      <td>Preencha os ítens abaixo de acordo com os quan...</td>\n",
       "    </tr>\n",
       "    <tr>\n",
       "      <th>9</th>\n",
       "      <td>desktop_proprio_antigo</td>\n",
       "      <td>TEXT</td>\n",
       "      <td>SIM</td>\n",
       "      <td>Do total de equipamentos PRÓPRIOS informados n...</td>\n",
       "    </tr>\n",
       "  </tbody>\n",
       "</table>\n",
       "</div>"
      ],
      "text/plain": [
       "            nome do campo           tipo aceita nulos?  \\\n",
       "0             id_resposta        INT(11)           NÃO   \n",
       "1         ano_diagnostico        INT(11)           NÃO   \n",
       "2          data_submissao       DATETIME           SIM   \n",
       "3                   orgao           TEXT           SIM   \n",
       "4              tipo_orgao           TEXT           SIM   \n",
       "5              qtd_equipe  DECIMAL(10,0)           SIM   \n",
       "6     utiliza_metodologia         INT(1)           SIM   \n",
       "7         desktop_proprio           TEXT           SIM   \n",
       "8          desktop_locado           TEXT           SIM   \n",
       "9  desktop_proprio_antigo           TEXT           SIM   \n",
       "\n",
       "                                           descrição  \n",
       "0       Chave única para cada resposta do formulário  \n",
       "1                      Ano de realização da pesquisa  \n",
       "2                          Data de envio da resposta  \n",
       "3                   Selecione o Órgão onde trabalha:  \n",
       "4  Classificação quanto ao tipo de órgão (Pode se...  \n",
       "5  Quantas pessoas trabalham de forma dedicada à ...  \n",
       "6  É utilizada alguma metodologia de gerenciament...  \n",
       "7  Preencha os ítens abaixo de acordo com os quan...  \n",
       "8  Preencha os ítens abaixo de acordo com os quan...  \n",
       "9  Do total de equipamentos PRÓPRIOS informados n...  "
      ]
     },
     "execution_count": 7,
     "metadata": {},
     "output_type": "execute_result"
    }
   ],
   "source": [
    "dicionario"
   ]
  },
  {
   "cell_type": "code",
   "execution_count": 8,
   "id": "35bb0128-f793-4231-abce-bc31329d21f5",
   "metadata": {},
   "outputs": [],
   "source": [
    "dump_path = os.path.join(original_data_path, 'respostas_diagnostico.sql')"
   ]
  },
  {
   "cell_type": "code",
   "execution_count": 9,
   "id": "c2cd3a7f-3ebd-4cfd-803c-2284c77d1658",
   "metadata": {},
   "outputs": [],
   "source": [
    "with open(dump_path, 'r') as f:\n",
    "    t = f.read(2000)"
   ]
  },
  {
   "cell_type": "code",
   "execution_count": 10,
   "id": "2d04846c-51dc-4bda-8d65-a21119889b5c",
   "metadata": {},
   "outputs": [
    {
     "name": "stdout",
     "output_type": "stream",
     "text": [
      "-- --------------------------------------------------------\n",
      "-- Servidor:                     localhost\n",
      "-- VersÃ£o do servidor:           10.4.6-MariaDB-1:10.4.6+maria~bionic - mariadb.org binary distribution\n",
      "-- OS do Servidor:               debian-linux-gnu\n",
      "-- HeidiSQL VersÃ£o:              10.2.0.5599\n",
      "-- --------------------------------------------------------\n",
      "\n",
      "/*!40101 SET @OLD_CHARACTER_SET_CLIENT=@@CHARACTER_SET_CLIENT */;\n",
      "/*!40101 SET NAMES utf8 */;\n",
      "/*!50503 SET NAMES utf8mb4 */;\n",
      "/*!40014 SET @OLD_FOREIGN_KEY_CHECKS=@@FOREIGN_KEY_CHECKS, FOREIGN_KEY_CHECKS=0 */;\n",
      "/*!40101 SET @OLD_SQL_MODE=@@SQL_MODE, SQL_MODE='NO_AUTO_VALUE_ON_ZERO' */;\n",
      "\n",
      "\n",
      "\n",
      "-- Copiando estrutura do banco de dados para desafio_selecao\n",
      "CREATE DATABASE IF NOT EXISTS `desafio_selecao` /*!40100 DEFAULT CHARACTER SET utf8 COLLATE utf8_unicode_ci */;\n",
      "USE `desafio_selecao`;\n",
      "\n",
      "-- Copiando estrutura para tabela desafio_selecao.respostas_diagnostico\n",
      "CREATE TABLE IF NOT EXISTS `respostas_diagnostico` (\n",
      "  `id_resposta` int(11) NOT NULL COMMENT 'Chave Ãºnica para cada resposta do formulÃ¡rio',\n",
      "  `ano_diagnostico` int(11) NOT NULL COMMENT 'Ano de realizaÃ§Ã£o da pesquisa',\n",
      "  `data_submissao` datetime DEFAULT NULL COMMENT 'Data de envio da resposta',\n",
      "  `orgao` text COLLATE utf8_unicode_ci DEFAULT NULL COMMENT '[QuestÃ£o] Selecione o Ã“rgÃ£o onde trabalha:',\n",
      "  `tipo_orgao` text COLLATE utf8_unicode_ci DEFAULT NULL COMMENT 'ClassificaÃ§Ã£o quanto ao tipo de Ã³rgÃ£o',\n",
      "  `qtd_equipe` decimal(10,0) DEFAULT NULL COMMENT '[QuestÃ£o] Quantas pessoas trabalham de forma dedicada Ã  Tecnologia da InformaÃ§Ã£o em seu Ã“rgÃ£o, incluindo vocÃª?',\n",
      "  `utiliza_metodologia` int(1) DEFAULT NULL COMMENT '[QuestÃ£o] Ã‰ utilizada alguma metodologia de gerenciamento de projetos?',\n",
      "  `desktop_proprio` text COLLATE utf8_unicode_ci DEFAULT NULL COMMENT '[QuestÃ£o] Preencha os Ã­tens abaixo de acordo com os quantitativos TOTAIS DE EQUIPAMENTOS do seu Ã“rgÃ£o separados por tipo de aquisiÃ§Ã£o (prÃ³prio ou locaÃ§Ã£o):  Caso nÃ£o possua algu\n"
     ]
    }
   ],
   "source": [
    "print(t)"
   ]
  },
  {
   "cell_type": "markdown",
   "id": "c0eab357-f3d7-4abd-b29f-b9dd95ba82d3",
   "metadata": {},
   "source": [
    "Como se pode notar no print acima, é necessário arrumar o encoding do dump de sql. É o que fazemos abaixo"
   ]
  },
  {
   "cell_type": "code",
   "execution_count": 11,
   "id": "95ef124b-9949-43f0-9f5e-f0f1b30c02e9",
   "metadata": {},
   "outputs": [],
   "source": [
    "with open(dump_path, 'rb') as f:\n",
    "    bin_sql_instructions = f.read()"
   ]
  },
  {
   "cell_type": "code",
   "execution_count": 12,
   "id": "7424ff94-013a-429e-909b-52edf5586424",
   "metadata": {},
   "outputs": [],
   "source": [
    "sql_instructions = bin_sql_instructions.decode('utf-8')"
   ]
  },
  {
   "cell_type": "markdown",
   "id": "17efa619-f854-447d-a79a-515a7664ccfa",
   "metadata": {},
   "source": [
    "#### Limpeza das instruções SQL\n",
    "\n",
    "Nas células abaixo realizamos a limpeza da instrução SQL para que ela se adeque ao idioma implementado no SQLite."
   ]
  },
  {
   "cell_type": "code",
   "execution_count": 13,
   "id": "30a464a8-746d-40d4-a676-1322cc8e9e2c",
   "metadata": {},
   "outputs": [],
   "source": [
    "sql_instructions = sql_instructions.replace('`', \"'\")"
   ]
  },
  {
   "cell_type": "code",
   "execution_count": 14,
   "id": "5d0cba9b-fc9a-4f5d-89f2-2b754048bbb4",
   "metadata": {},
   "outputs": [],
   "source": [
    "def remove_comments(sql_instructions):\n",
    "    \n",
    "    text_comment = (\"COMMENT '\")\n",
    "    \n",
    "    while True:\n",
    "        \n",
    "        ini = sql_instructions.find(text_comment)\n",
    "        if ini < 0:\n",
    "            break\n",
    "        fim = sql_instructions[ini+len(text_comment):].find(\"'\")\n",
    "        \n",
    "        comentario = sql_instructions[ini:ini+fim+len(text_comment)+1]\n",
    "        \n",
    "        sql_instructions = sql_instructions.replace(comentario, '')\n",
    "    \n",
    "    return sql_instructions"
   ]
  },
  {
   "cell_type": "code",
   "execution_count": 15,
   "id": "b9b2f037-945d-4d48-b8ff-a4a72580a91f",
   "metadata": {},
   "outputs": [],
   "source": [
    "sql_instructions = remove_comments(sql_instructions)"
   ]
  },
  {
   "cell_type": "code",
   "execution_count": 16,
   "id": "414b8b3e-a653-411f-8d27-25da0e8b67a1",
   "metadata": {},
   "outputs": [],
   "source": [
    "def remove_collate(sql_instructions):\n",
    "    \n",
    "    collate_cmd = 'COLLATE utf8_unicode_ci'\n",
    "    \n",
    "    while True:\n",
    "        found = sql_instructions.find(collate_cmd)\n",
    "        if found<0:\n",
    "            break\n",
    "        sql_instructions = sql_instructions.replace(collate_cmd, '')\n",
    "        \n",
    "    return sql_instructions"
   ]
  },
  {
   "cell_type": "code",
   "execution_count": 17,
   "id": "efd3b9fe-ab1f-43a4-84ae-1367e5c9011f",
   "metadata": {},
   "outputs": [],
   "source": [
    "sql_instructions = remove_collate(sql_instructions)"
   ]
  },
  {
   "cell_type": "code",
   "execution_count": 18,
   "id": "a9c40296-823d-44c5-8159-0f5097e4e895",
   "metadata": {},
   "outputs": [],
   "source": [
    "sql_instructions =sql_instructions.replace('ENGINE=InnoDB', '')"
   ]
  },
  {
   "cell_type": "markdown",
   "id": "a9a85b92-ee6e-4704-a89f-58e9a0bf6b0a",
   "metadata": {},
   "source": [
    "### Identificando comandos Create table e Insert values\n",
    "\n",
    "Nas células abaixo, parseamos o dump SQL limpo para isolar as instruções Create Table e Insert values.\n",
    "\n",
    "Em seguida, executamos essas instruções, criando efetivamente o banco de dados e o populando com dados."
   ]
  },
  {
   "cell_type": "code",
   "execution_count": 19,
   "id": "5756202b-fa08-4277-b318-33880ec9507f",
   "metadata": {},
   "outputs": [],
   "source": [
    "create_table_start = sql_instructions.find('CREATE TABLE')\n",
    "fim_create_table = 'DEFAULT CHARSET=utf8'\n",
    "create_table_command = sql_instructions[create_table_start:sql_instructions.find(fim_create_table)]\n"
   ]
  },
  {
   "cell_type": "markdown",
   "id": "94b3a5a7-1757-4903-b8df-660dba64276a",
   "metadata": {},
   "source": [
    "Como se pode ver, a instrução create table está de acordo com o dicionario enviado.\n",
    "\n",
    "Notamos também que os dados possuem chave única composta pelas variáveis id resposta e ano do diagnóstico."
   ]
  },
  {
   "cell_type": "code",
   "execution_count": 20,
   "id": "0bb6370c-1b67-4f3a-830c-b83b0dc295da",
   "metadata": {},
   "outputs": [
    {
     "name": "stdout",
     "output_type": "stream",
     "text": [
      "CREATE TABLE IF NOT EXISTS 'respostas_diagnostico' (\n",
      "  'id_resposta' int(11) NOT NULL ,\n",
      "  'ano_diagnostico' int(11) NOT NULL ,\n",
      "  'data_submissao' datetime DEFAULT NULL ,\n",
      "  'orgao' text  DEFAULT NULL ,\n",
      "  'tipo_orgao' text  DEFAULT NULL ,\n",
      "  'qtd_equipe' decimal(10,0) DEFAULT NULL ,\n",
      "  'utiliza_metodologia' int(1) DEFAULT NULL ,\n",
      "  'desktop_proprio' text  DEFAULT NULL ,\n",
      "  'desktop_locado' text  DEFAULT NULL ,\n",
      "  'desktop_proprio_antigo' text  DEFAULT NULL ,\n",
      "  PRIMARY KEY ('id_resposta','ano_diagnostico')\n",
      ")  \n"
     ]
    }
   ],
   "source": [
    "print(create_table_command)"
   ]
  },
  {
   "cell_type": "code",
   "execution_count": 21,
   "id": "39128cf1-7bdf-4206-9207-12cbf1aff114",
   "metadata": {},
   "outputs": [
    {
     "data": {
      "text/html": [
       "<div>\n",
       "<style scoped>\n",
       "    .dataframe tbody tr th:only-of-type {\n",
       "        vertical-align: middle;\n",
       "    }\n",
       "\n",
       "    .dataframe tbody tr th {\n",
       "        vertical-align: top;\n",
       "    }\n",
       "\n",
       "    .dataframe thead th {\n",
       "        text-align: right;\n",
       "    }\n",
       "</style>\n",
       "<table border=\"1\" class=\"dataframe\">\n",
       "  <thead>\n",
       "    <tr style=\"text-align: right;\">\n",
       "      <th></th>\n",
       "      <th>nome do campo</th>\n",
       "      <th>tipo</th>\n",
       "      <th>aceita nulos?</th>\n",
       "      <th>descrição</th>\n",
       "    </tr>\n",
       "  </thead>\n",
       "  <tbody>\n",
       "    <tr>\n",
       "      <th>0</th>\n",
       "      <td>id_resposta</td>\n",
       "      <td>INT(11)</td>\n",
       "      <td>NÃO</td>\n",
       "      <td>Chave única para cada resposta do formulário</td>\n",
       "    </tr>\n",
       "    <tr>\n",
       "      <th>1</th>\n",
       "      <td>ano_diagnostico</td>\n",
       "      <td>INT(11)</td>\n",
       "      <td>NÃO</td>\n",
       "      <td>Ano de realização da pesquisa</td>\n",
       "    </tr>\n",
       "    <tr>\n",
       "      <th>2</th>\n",
       "      <td>data_submissao</td>\n",
       "      <td>DATETIME</td>\n",
       "      <td>SIM</td>\n",
       "      <td>Data de envio da resposta</td>\n",
       "    </tr>\n",
       "    <tr>\n",
       "      <th>3</th>\n",
       "      <td>orgao</td>\n",
       "      <td>TEXT</td>\n",
       "      <td>SIM</td>\n",
       "      <td>Selecione o Órgão onde trabalha:</td>\n",
       "    </tr>\n",
       "    <tr>\n",
       "      <th>4</th>\n",
       "      <td>tipo_orgao</td>\n",
       "      <td>TEXT</td>\n",
       "      <td>SIM</td>\n",
       "      <td>Classificação quanto ao tipo de órgão (Pode se...</td>\n",
       "    </tr>\n",
       "    <tr>\n",
       "      <th>5</th>\n",
       "      <td>qtd_equipe</td>\n",
       "      <td>DECIMAL(10,0)</td>\n",
       "      <td>SIM</td>\n",
       "      <td>Quantas pessoas trabalham de forma dedicada à ...</td>\n",
       "    </tr>\n",
       "    <tr>\n",
       "      <th>6</th>\n",
       "      <td>utiliza_metodologia</td>\n",
       "      <td>INT(1)</td>\n",
       "      <td>SIM</td>\n",
       "      <td>É utilizada alguma metodologia de gerenciament...</td>\n",
       "    </tr>\n",
       "    <tr>\n",
       "      <th>7</th>\n",
       "      <td>desktop_proprio</td>\n",
       "      <td>TEXT</td>\n",
       "      <td>SIM</td>\n",
       "      <td>Preencha os ítens abaixo de acordo com os quan...</td>\n",
       "    </tr>\n",
       "    <tr>\n",
       "      <th>8</th>\n",
       "      <td>desktop_locado</td>\n",
       "      <td>TEXT</td>\n",
       "      <td>SIM</td>\n",
       "      <td>Preencha os ítens abaixo de acordo com os quan...</td>\n",
       "    </tr>\n",
       "    <tr>\n",
       "      <th>9</th>\n",
       "      <td>desktop_proprio_antigo</td>\n",
       "      <td>TEXT</td>\n",
       "      <td>SIM</td>\n",
       "      <td>Do total de equipamentos PRÓPRIOS informados n...</td>\n",
       "    </tr>\n",
       "  </tbody>\n",
       "</table>\n",
       "</div>"
      ],
      "text/plain": [
       "            nome do campo           tipo aceita nulos?  \\\n",
       "0             id_resposta        INT(11)           NÃO   \n",
       "1         ano_diagnostico        INT(11)           NÃO   \n",
       "2          data_submissao       DATETIME           SIM   \n",
       "3                   orgao           TEXT           SIM   \n",
       "4              tipo_orgao           TEXT           SIM   \n",
       "5              qtd_equipe  DECIMAL(10,0)           SIM   \n",
       "6     utiliza_metodologia         INT(1)           SIM   \n",
       "7         desktop_proprio           TEXT           SIM   \n",
       "8          desktop_locado           TEXT           SIM   \n",
       "9  desktop_proprio_antigo           TEXT           SIM   \n",
       "\n",
       "                                           descrição  \n",
       "0       Chave única para cada resposta do formulário  \n",
       "1                      Ano de realização da pesquisa  \n",
       "2                          Data de envio da resposta  \n",
       "3                   Selecione o Órgão onde trabalha:  \n",
       "4  Classificação quanto ao tipo de órgão (Pode se...  \n",
       "5  Quantas pessoas trabalham de forma dedicada à ...  \n",
       "6  É utilizada alguma metodologia de gerenciament...  \n",
       "7  Preencha os ítens abaixo de acordo com os quan...  \n",
       "8  Preencha os ítens abaixo de acordo com os quan...  \n",
       "9  Do total de equipamentos PRÓPRIOS informados n...  "
      ]
     },
     "execution_count": 21,
     "metadata": {},
     "output_type": "execute_result"
    }
   ],
   "source": [
    "dicionario"
   ]
  },
  {
   "cell_type": "markdown",
   "id": "89f2a0c0-1c01-4b3f-b55d-a2d9249e6ab3",
   "metadata": {},
   "source": [
    "Agora vamos criar o banco de dados e executar os comandos."
   ]
  },
  {
   "cell_type": "code",
   "execution_count": 22,
   "id": "a505195c-a5b8-44df-8c9b-10b196b9a2d0",
   "metadata": {},
   "outputs": [],
   "source": [
    "con = con = sqlite3.connect(db_path)"
   ]
  },
  {
   "cell_type": "code",
   "execution_count": 23,
   "id": "c3b98075-637e-41f9-8443-df97653a7200",
   "metadata": {},
   "outputs": [],
   "source": [
    "cur = con.cursor()"
   ]
  },
  {
   "cell_type": "code",
   "execution_count": 24,
   "id": "51c9a6df-8ec4-4c68-b2fe-7d96c756c059",
   "metadata": {},
   "outputs": [
    {
     "data": {
      "text/plain": [
       "<sqlite3.Cursor at 0x1fe247e5a40>"
      ]
     },
     "execution_count": 24,
     "metadata": {},
     "output_type": "execute_result"
    }
   ],
   "source": [
    "cur.execute(create_table_command)"
   ]
  },
  {
   "cell_type": "code",
   "execution_count": 25,
   "id": "4515b1af-0159-44cc-bd82-f557b9f8d0b9",
   "metadata": {},
   "outputs": [],
   "source": [
    "con.commit()"
   ]
  },
  {
   "cell_type": "code",
   "execution_count": 26,
   "id": "8fa578db-773c-4930-80aa-a636a94a22a7",
   "metadata": {},
   "outputs": [],
   "source": [
    "insert_command_ini = sql_instructions.find('INSERT INTO')\n",
    "\n",
    "insert_command_end = sql_instructions.find(\"*!40000 ALTER TABLE 'respostas_diagnostico' ENABLE KEYS */;\\r\\n\\r\\n/*!40101 SET SQL_MODE=IFNULL(@OLD_SQL_MODE, '')\")\n",
    "\n",
    "insert_command = sql_instructions[insert_command_ini:insert_command_end]"
   ]
  },
  {
   "cell_type": "code",
   "execution_count": 27,
   "id": "daa2ab19-12c0-40d9-b2bd-4dc51b166ad4",
   "metadata": {},
   "outputs": [
    {
     "data": {
      "text/plain": [
       "<sqlite3.Cursor at 0x1fe247e5a40>"
      ]
     },
     "execution_count": 27,
     "metadata": {},
     "output_type": "execute_result"
    }
   ],
   "source": [
    "cur.execute(insert_command)"
   ]
  },
  {
   "cell_type": "code",
   "execution_count": 28,
   "id": "a0d6f166-3321-4f70-8138-f9c3de85c1a3",
   "metadata": {},
   "outputs": [],
   "source": [
    "con.commit()"
   ]
  },
  {
   "cell_type": "markdown",
   "id": "1c5468bf-400a-4bfd-8c47-710739f1cc76",
   "metadata": {},
   "source": [
    "#### Checagem\n",
    "\n",
    "Por fim, fazemos uma query select para verificar se os dados foram carregados com sucesso"
   ]
  },
  {
   "cell_type": "code",
   "execution_count": 29,
   "id": "a1c671f5-f73a-4cf6-9fe9-17989af7260a",
   "metadata": {},
   "outputs": [
    {
     "data": {
      "text/plain": [
       "<sqlite3.Cursor at 0x1fe247e5a40>"
      ]
     },
     "execution_count": 29,
     "metadata": {},
     "output_type": "execute_result"
    }
   ],
   "source": [
    "cur.execute('''\n",
    "            SELECT \n",
    "            name\n",
    "        FROM \n",
    "            sqlite_schema\n",
    "        WHERE \n",
    "            type ='table' AND \n",
    "            name NOT LIKE 'sqlite_%';''')"
   ]
  },
  {
   "cell_type": "code",
   "execution_count": 30,
   "id": "a653706d-156e-4e9d-a8a0-fae47c0127c7",
   "metadata": {},
   "outputs": [
    {
     "data": {
      "text/plain": [
       "[('respostas_diagnostico',)]"
      ]
     },
     "execution_count": 30,
     "metadata": {},
     "output_type": "execute_result"
    }
   ],
   "source": [
    "cur.fetchall()"
   ]
  },
  {
   "cell_type": "code",
   "execution_count": 31,
   "id": "b992a999-1ec5-43d1-b7aa-c32e27a3c2bb",
   "metadata": {},
   "outputs": [
    {
     "data": {
      "text/html": [
       "<div>\n",
       "<style scoped>\n",
       "    .dataframe tbody tr th:only-of-type {\n",
       "        vertical-align: middle;\n",
       "    }\n",
       "\n",
       "    .dataframe tbody tr th {\n",
       "        vertical-align: top;\n",
       "    }\n",
       "\n",
       "    .dataframe thead th {\n",
       "        text-align: right;\n",
       "    }\n",
       "</style>\n",
       "<table border=\"1\" class=\"dataframe\">\n",
       "  <thead>\n",
       "    <tr style=\"text-align: right;\">\n",
       "      <th></th>\n",
       "      <th>id_resposta</th>\n",
       "      <th>ano_diagnostico</th>\n",
       "      <th>data_submissao</th>\n",
       "      <th>orgao</th>\n",
       "      <th>tipo_orgao</th>\n",
       "      <th>qtd_equipe</th>\n",
       "      <th>utiliza_metodologia</th>\n",
       "      <th>desktop_proprio</th>\n",
       "      <th>desktop_locado</th>\n",
       "      <th>desktop_proprio_antigo</th>\n",
       "    </tr>\n",
       "  </thead>\n",
       "  <tbody>\n",
       "    <tr>\n",
       "      <th>0</th>\n",
       "      <td>5</td>\n",
       "      <td>2017</td>\n",
       "      <td>2017-04-20 10:39:54</td>\n",
       "      <td>SUBPR</td>\n",
       "      <td>Subprefeitura</td>\n",
       "      <td>3.0</td>\n",
       "      <td>0.0</td>\n",
       "      <td>152</td>\n",
       "      <td>0</td>\n",
       "      <td>107</td>\n",
       "    </tr>\n",
       "    <tr>\n",
       "      <th>1</th>\n",
       "      <td>8</td>\n",
       "      <td>2019</td>\n",
       "      <td>2019-04-12 10:55:24</td>\n",
       "      <td>SMS</td>\n",
       "      <td>Secretaria</td>\n",
       "      <td>58.0</td>\n",
       "      <td>0.0</td>\n",
       "      <td>12500</td>\n",
       "      <td>0</td>\n",
       "      <td>6927.0000000000</td>\n",
       "    </tr>\n",
       "    <tr>\n",
       "      <th>2</th>\n",
       "      <td>9</td>\n",
       "      <td>2019</td>\n",
       "      <td>2019-04-05 15:57:10</td>\n",
       "      <td>SUBSA</td>\n",
       "      <td>Subprefeitura</td>\n",
       "      <td>3.0</td>\n",
       "      <td>NaN</td>\n",
       "      <td>36</td>\n",
       "      <td>90</td>\n",
       "      <td>0.0000000000</td>\n",
       "    </tr>\n",
       "    <tr>\n",
       "      <th>3</th>\n",
       "      <td>10</td>\n",
       "      <td>2017</td>\n",
       "      <td>2017-05-17 09:13:17</td>\n",
       "      <td>IPREM</td>\n",
       "      <td>Administração Indireta</td>\n",
       "      <td>6.0</td>\n",
       "      <td>0.0</td>\n",
       "      <td>200</td>\n",
       "      <td>0</td>\n",
       "      <td>0</td>\n",
       "    </tr>\n",
       "    <tr>\n",
       "      <th>4</th>\n",
       "      <td>10</td>\n",
       "      <td>2019</td>\n",
       "      <td>2019-03-25 14:40:06</td>\n",
       "      <td>SUBST</td>\n",
       "      <td>Subprefeitura</td>\n",
       "      <td>3.0</td>\n",
       "      <td>NaN</td>\n",
       "      <td>150</td>\n",
       "      <td>0</td>\n",
       "      <td>150.0000000000</td>\n",
       "    </tr>\n",
       "    <tr>\n",
       "      <th>...</th>\n",
       "      <td>...</td>\n",
       "      <td>...</td>\n",
       "      <td>...</td>\n",
       "      <td>...</td>\n",
       "      <td>...</td>\n",
       "      <td>...</td>\n",
       "      <td>...</td>\n",
       "      <td>...</td>\n",
       "      <td>...</td>\n",
       "      <td>...</td>\n",
       "    </tr>\n",
       "    <tr>\n",
       "      <th>302</th>\n",
       "      <td>396</td>\n",
       "      <td>2017</td>\n",
       "      <td>None</td>\n",
       "      <td>None</td>\n",
       "      <td>None</td>\n",
       "      <td>NaN</td>\n",
       "      <td>NaN</td>\n",
       "      <td>None</td>\n",
       "      <td>None</td>\n",
       "      <td>None</td>\n",
       "    </tr>\n",
       "    <tr>\n",
       "      <th>303</th>\n",
       "      <td>397</td>\n",
       "      <td>2017</td>\n",
       "      <td>None</td>\n",
       "      <td>None</td>\n",
       "      <td>None</td>\n",
       "      <td>NaN</td>\n",
       "      <td>NaN</td>\n",
       "      <td>None</td>\n",
       "      <td>None</td>\n",
       "      <td>None</td>\n",
       "    </tr>\n",
       "    <tr>\n",
       "      <th>304</th>\n",
       "      <td>398</td>\n",
       "      <td>2017</td>\n",
       "      <td>None</td>\n",
       "      <td>A3</td>\n",
       "      <td>None</td>\n",
       "      <td>40.0</td>\n",
       "      <td>0.0</td>\n",
       "      <td>None</td>\n",
       "      <td>None</td>\n",
       "      <td>None</td>\n",
       "    </tr>\n",
       "    <tr>\n",
       "      <th>305</th>\n",
       "      <td>399</td>\n",
       "      <td>2017</td>\n",
       "      <td>None</td>\n",
       "      <td>A3</td>\n",
       "      <td>None</td>\n",
       "      <td>NaN</td>\n",
       "      <td>NaN</td>\n",
       "      <td></td>\n",
       "      <td></td>\n",
       "      <td></td>\n",
       "    </tr>\n",
       "    <tr>\n",
       "      <th>306</th>\n",
       "      <td>400</td>\n",
       "      <td>2017</td>\n",
       "      <td>None</td>\n",
       "      <td>None</td>\n",
       "      <td>None</td>\n",
       "      <td>NaN</td>\n",
       "      <td>NaN</td>\n",
       "      <td>None</td>\n",
       "      <td>None</td>\n",
       "      <td>None</td>\n",
       "    </tr>\n",
       "  </tbody>\n",
       "</table>\n",
       "<p>307 rows × 10 columns</p>\n",
       "</div>"
      ],
      "text/plain": [
       "     id_resposta  ano_diagnostico       data_submissao  orgao  \\\n",
       "0              5             2017  2017-04-20 10:39:54  SUBPR   \n",
       "1              8             2019  2019-04-12 10:55:24    SMS   \n",
       "2              9             2019  2019-04-05 15:57:10  SUBSA   \n",
       "3             10             2017  2017-05-17 09:13:17  IPREM   \n",
       "4             10             2019  2019-03-25 14:40:06  SUBST   \n",
       "..           ...              ...                  ...    ...   \n",
       "302          396             2017                 None   None   \n",
       "303          397             2017                 None   None   \n",
       "304          398             2017                 None     A3   \n",
       "305          399             2017                 None     A3   \n",
       "306          400             2017                 None   None   \n",
       "\n",
       "                 tipo_orgao  qtd_equipe  utiliza_metodologia desktop_proprio  \\\n",
       "0             Subprefeitura         3.0                  0.0             152   \n",
       "1                Secretaria        58.0                  0.0           12500   \n",
       "2             Subprefeitura         3.0                  NaN              36   \n",
       "3    Administração Indireta         6.0                  0.0             200   \n",
       "4             Subprefeitura         3.0                  NaN             150   \n",
       "..                      ...         ...                  ...             ...   \n",
       "302                    None         NaN                  NaN            None   \n",
       "303                    None         NaN                  NaN            None   \n",
       "304                    None        40.0                  0.0            None   \n",
       "305                    None         NaN                  NaN                   \n",
       "306                    None         NaN                  NaN            None   \n",
       "\n",
       "    desktop_locado desktop_proprio_antigo  \n",
       "0                0                    107  \n",
       "1                0        6927.0000000000  \n",
       "2               90           0.0000000000  \n",
       "3                0                      0  \n",
       "4                0         150.0000000000  \n",
       "..             ...                    ...  \n",
       "302           None                   None  \n",
       "303           None                   None  \n",
       "304           None                   None  \n",
       "305                                        \n",
       "306           None                   None  \n",
       "\n",
       "[307 rows x 10 columns]"
      ]
     },
     "execution_count": 31,
     "metadata": {},
     "output_type": "execute_result"
    }
   ],
   "source": [
    "pd.read_sql('SELECT * FROM respostas_diagnostico', con)"
   ]
  },
  {
   "cell_type": "code",
   "execution_count": 32,
   "id": "c7c7debc-4282-4483-b18a-150780914fca",
   "metadata": {},
   "outputs": [],
   "source": [
    "con.close()"
   ]
  },
  {
   "cell_type": "code",
   "execution_count": null,
   "id": "c1c53dd1-1d16-4336-bbfb-7bfd8bedde20",
   "metadata": {},
   "outputs": [],
   "source": []
  }
 ],
 "metadata": {
  "kernelspec": {
   "display_name": "Python 3",
   "language": "python",
   "name": "python3"
  },
  "language_info": {
   "codemirror_mode": {
    "name": "ipython",
    "version": 3
   },
   "file_extension": ".py",
   "mimetype": "text/x-python",
   "name": "python",
   "nbconvert_exporter": "python",
   "pygments_lexer": "ipython3",
   "version": "3.8.8"
  }
 },
 "nbformat": 4,
 "nbformat_minor": 5
}
